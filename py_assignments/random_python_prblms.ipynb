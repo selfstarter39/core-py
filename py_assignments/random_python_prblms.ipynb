{
 "cells": [
  {
   "cell_type": "markdown",
   "metadata": {},
   "source": [
    "#### Q1: Implement an algorithm to determine if a string has all unique characters.\n",
    "- Input: string to be checked\n",
    "- Output: Boolean\n",
    "    * True,if string has all unique characters\n",
    "    * False,if string has repeats \n",
    "    * True,if string is empty\n",
    "    * False,if string is None    \n",
    "- Example:\n",
    "    >- \"apple\", returns False\n",
    "  - \"ant\", returns True\n",
    "    \n"
   ]
  },
  {
   "cell_type": "code",
   "execution_count": 1,
   "metadata": {},
   "outputs": [],
   "source": [
    "class UniqChr():\n",
    "    def __init__(self,string):\n",
    "        self.string = string\n",
    "        print(f\"The string passed is:{string}\")\n",
    "    \n",
    "    # Option 1: check via set \n",
    "    def chk_uniq_via_set(self):\n",
    "        if self.string is None:\n",
    "            return False\n",
    "        else:\n",
    "            return len(set(self.string)) == len(self.string) \n",
    "        \n",
    "    # Option 2: check via list \n",
    "    def chk_uniq_via_lst(self):\n",
    "        lstchr = []\n",
    "        if self.string is None:\n",
    "            return False\n",
    "        for element in self.string:\n",
    "            if element in lstchr:\n",
    "                return False\n",
    "            else:\n",
    "                lstchr.append(element)\n",
    "                \n",
    "        return True\n",
    "    \n",
    "    \n",
    "    # Option 3:check via string method (count): \n",
    "    def chk_uniq_via_count(self):\n",
    "        if self.string is None:\n",
    "            return False\n",
    "        for element in self.string:\n",
    "            if self.string.count(element)>1:\n",
    "                return False\n",
    "            \n",
    "        return True\n",
    "    \n",
    "    \n",
    "    # Option 4:check via string method (index): \n",
    "    def chk_uniq_via_index(self): \n",
    "        if self.string is None:\n",
    "            return False\n",
    "        for element in self.string:\n",
    "            pos = self.string.index(element)\n",
    "            try:\n",
    "                if self.string.index(element, (pos+1)):\n",
    "                    return False\n",
    "            except ValueError :\n",
    "                continue\n",
    "            \n",
    "        return True    "
   ]
  },
  {
   "cell_type": "code",
   "execution_count": 2,
   "metadata": {},
   "outputs": [
    {
     "name": "stdout",
     "output_type": "stream",
     "text": [
      "The string passed is:ant\n"
     ]
    }
   ],
   "source": [
    "#string = \"foolish boy\"\n",
    "# string = \"\"\n",
    "#string = None\n",
    "string = \"ant\"\n",
    "obj = UniqChr(string)"
   ]
  },
  {
   "cell_type": "code",
   "execution_count": 3,
   "metadata": {},
   "outputs": [
    {
     "name": "stdout",
     "output_type": "stream",
     "text": [
      "True\n",
      "True\n",
      "True\n",
      "True\n"
     ]
    }
   ],
   "source": [
    "print(obj.chk_uniq_via_count())\n",
    "print(obj.chk_uniq_via_set())\n",
    "print(obj.chk_uniq_via_lst())\n",
    "print(obj.chk_uniq_via_index())"
   ]
  },
  {
   "cell_type": "markdown",
   "metadata": {},
   "source": [
    "#### Q2: a) Reverse a string\n",
    "- Input: string to be checked\n",
    "- Output: reversed string (`\"Can't perform reverse operation on given string\"` for **None** or **empty strings**)\n",
    "- Example:\n",
    "    >\"Apple is a fruit\" returns \"tiurf a si elppA\""
   ]
  },
  {
   "cell_type": "code",
   "execution_count": 4,
   "metadata": {},
   "outputs": [],
   "source": [
    "class StrReverse(UniqChr):\n",
    "    def __init__(self,string):\n",
    "        super().__init__(string) # lazy coding to get object initialized\n",
    "    \n",
    "    # Option 1: Using slice operator\n",
    "    def rev_str_slice(self):\n",
    "        if self.string is None or self.string is \"\":\n",
    "            return \"Can't perform reverse operation on given string\"\n",
    "        return self.string[::-1]\n",
    "    \n",
    "    # Option 2: Using reversed\n",
    "    def rev_str_method(self):\n",
    "        if self.string is None or self.string is \"\":\n",
    "            return \"Can't perform reverse operation on given string\"        \n",
    "        return \"\".join(list(reversed(self.string)))\n",
    "    \n",
    "    # Option 3: Loop approach\n",
    "    def rev_str_loop(self):     \n",
    "        if self.string is None or self.string is \"\":\n",
    "            return \"Can't perform reverse operation on given string\"        \n",
    "        newstr=\"\"\n",
    "        for i in range(len(string)-1,-1,-1):\n",
    "            newstr = newstr + string[i]\n",
    "        return newstr  \n",
    "        "
   ]
  },
  {
   "cell_type": "code",
   "execution_count": 5,
   "metadata": {},
   "outputs": [
    {
     "name": "stdout",
     "output_type": "stream",
     "text": [
      "The string passed is:Apple is a fruit\n"
     ]
    }
   ],
   "source": [
    "#string=None\n",
    "string = \"Apple is a fruit\"\n",
    "#string=\"\"\n",
    "obj = StrReverse(string)"
   ]
  },
  {
   "cell_type": "code",
   "execution_count": 6,
   "metadata": {},
   "outputs": [
    {
     "name": "stdout",
     "output_type": "stream",
     "text": [
      "tiurf a si elppA\n",
      "tiurf a si elppA\n",
      "tiurf a si elppA\n"
     ]
    }
   ],
   "source": [
    "print(obj.rev_str_slice())\n",
    "print(obj.rev_str_method())\n",
    "print(obj.rev_str_loop())"
   ]
  },
  {
   "cell_type": "markdown",
   "metadata": {},
   "source": [
    "#### Q2: b) Reverse words in a string\n",
    "- Input: string to be checked\n",
    "- Output: String with reversed words  (`\"Can't perform reverse operation on given string\"` for **None** or **empty** strings)\n",
    "\n",
    "Example:\n",
    ">\"Apple is a fruit\" returns \"elppA si a tiurf\""
   ]
  },
  {
   "cell_type": "code",
   "execution_count": 7,
   "metadata": {},
   "outputs": [],
   "source": [
    "class WordsRev(UniqChr):    \n",
    "    def __init__(self,string):\n",
    "        super().__init__(string)\n",
    "        \n",
    "    # Option 1:Using split,list comprehension and slice\n",
    "    def rev_words(self):\n",
    "        if self.string is None or self.string is \"\":\n",
    "            return \"Can't perform reverse operation on given string\"\n",
    "        revStr = \" \".join([word[::-1] for word in self.string.split(\" \")])\n",
    "        return (revStr.rstrip()).lstrip()\n",
    "    \n",
    "    # Option 2:Breaking down steps from Option 1\n",
    "    def rev_words_detail(self):\n",
    "        if self.string is None or self.string is \"\":\n",
    "            return \"Can't perform reverse operation on given string\"\n",
    "        revStr = \"\"\n",
    "        strLst = self.string.split(\" \")\n",
    "        for word in strLst:\n",
    "            revStr = revStr + \" \" + word[::-1]\n",
    "        return (revStr.rstrip()).lstrip()"
   ]
  },
  {
   "cell_type": "code",
   "execution_count": 8,
   "metadata": {},
   "outputs": [
    {
     "name": "stdout",
     "output_type": "stream",
     "text": [
      "The string passed is:Apple is a fruit ! I love it big time .\n"
     ]
    }
   ],
   "source": [
    "#string= \"\"\n",
    "string = \"Apple is a fruit ! I love it big time .\" # adding space btwn punctuations to keep things simple\n",
    "obj = WordsRev(string)"
   ]
  },
  {
   "cell_type": "code",
   "execution_count": 9,
   "metadata": {},
   "outputs": [
    {
     "name": "stdout",
     "output_type": "stream",
     "text": [
      "elppA si a tiurf ! I evol ti gib emit .\n",
      "elppA si a tiurf ! I evol ti gib emit .\n"
     ]
    }
   ],
   "source": [
    "print(obj.rev_words())\n",
    "print(obj.rev_words_detail())"
   ]
  },
  {
   "cell_type": "code",
   "execution_count": 10,
   "metadata": {},
   "outputs": [
    {
     "data": {
      "text/plain": [
       "True"
      ]
     },
     "execution_count": 10,
     "metadata": {},
     "output_type": "execute_result"
    }
   ],
   "source": [
    "obj.rev_words() == obj.rev_words_detail()"
   ]
  },
  {
   "cell_type": "code",
   "execution_count": null,
   "metadata": {},
   "outputs": [],
   "source": []
  },
  {
   "cell_type": "markdown",
   "metadata": {},
   "source": [
    "#### Write a program that prints the number of times the string `bob` occurs in `s`. For example, if s = 'azcbobobegghakl', then your program should print\n",
    "\n",
    "`Number of times bob occurs is: 2`"
   ]
  },
  {
   "cell_type": "code",
   "execution_count": 14,
   "metadata": {},
   "outputs": [
    {
     "name": "stdout",
     "output_type": "stream",
     "text": [
      "Number of times bob occurs is: 6\n"
     ]
    }
   ],
   "source": [
    "def cnt_substrs():\n",
    "    #s = 'azcbobobegghakl'\n",
    "    s = 'bobazcbobobobegghaklbobbob'\n",
    "    i = 0\n",
    "    cnt = 0\n",
    "    while (i < len(s) ):\n",
    "        if s[i] == \"b\":\n",
    "            if s[i:i+3] == \"bob\":\n",
    "                #print(f\"bob is found at pos:{i}:{i+2}\")\n",
    "                #print(\"\\n\")\n",
    "                cnt+=1\n",
    "        i+=1\n",
    "    \n",
    "    print(f\"Number of times bob occurs is: {cnt}\")\n",
    "    \n",
    "cnt_substrs()    "
   ]
  },
  {
   "cell_type": "code",
   "execution_count": null,
   "metadata": {},
   "outputs": [],
   "source": []
  },
  {
   "cell_type": "code",
   "execution_count": null,
   "metadata": {},
   "outputs": [],
   "source": []
  },
  {
   "cell_type": "code",
   "execution_count": null,
   "metadata": {},
   "outputs": [],
   "source": []
  },
  {
   "cell_type": "code",
   "execution_count": null,
   "metadata": {},
   "outputs": [],
   "source": []
  },
  {
   "cell_type": "code",
   "execution_count": null,
   "metadata": {},
   "outputs": [],
   "source": []
  },
  {
   "cell_type": "code",
   "execution_count": null,
   "metadata": {},
   "outputs": [],
   "source": []
  },
  {
   "cell_type": "code",
   "execution_count": null,
   "metadata": {},
   "outputs": [],
   "source": []
  },
  {
   "cell_type": "code",
   "execution_count": null,
   "metadata": {},
   "outputs": [],
   "source": []
  }
 ],
 "metadata": {
  "kernelspec": {
   "display_name": "Python 3",
   "language": "python",
   "name": "python3"
  },
  "language_info": {
   "codemirror_mode": {
    "name": "ipython",
    "version": 3
   },
   "file_extension": ".py",
   "mimetype": "text/x-python",
   "name": "python",
   "nbconvert_exporter": "python",
   "pygments_lexer": "ipython3",
   "version": "3.7.7"
  }
 },
 "nbformat": 4,
 "nbformat_minor": 4
}
