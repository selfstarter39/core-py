{
 "cells": [
  {
   "cell_type": "markdown",
   "metadata": {},
   "source": [
    "#### Q1: Implement an algorithm to determine if a string has all unique characters.\n",
    "- Input: string to be checked\n",
    "- Output: Boolean\n",
    "    * True,if string has all unique characters\n",
    "    * False,if string has repeats \n",
    "    * True,if string is empty\n",
    "    * False,if string is None    \n",
    "- Example:\n",
    "    >- \"apple\", returns False\n",
    "  - \"ant\", returns True\n",
    "    \n"
   ]
  },
  {
   "cell_type": "code",
   "execution_count": 1,
   "metadata": {},
   "outputs": [],
   "source": [
    "class UniqChr():\n",
    "    def __init__(self,string):\n",
    "        self.string = string\n",
    "        print(f\"The string passed is:{string}\")\n",
    "    \n",
    "    # Option 1: check via set \n",
    "    def chk_uniq_via_set(self):\n",
    "        if self.string is None:\n",
    "            return False\n",
    "        else:\n",
    "            return len(set(self.string)) == len(self.string) \n",
    "        \n",
    "    # Option 2: check via list \n",
    "    def chk_uniq_via_lst(self):\n",
    "        lstchr = []\n",
    "        if self.string is None:\n",
    "            return False\n",
    "        for element in self.string:\n",
    "            if element in lstchr:\n",
    "                return False\n",
    "            else:\n",
    "                lstchr.append(element)\n",
    "                \n",
    "        return True\n",
    "    \n",
    "    \n",
    "    # Option 3:check via string method (count): \n",
    "    def chk_uniq_via_count(self):\n",
    "        if self.string is None:\n",
    "            return False\n",
    "        for element in self.string:\n",
    "            if self.string.count(element)>1:\n",
    "                return False\n",
    "            \n",
    "        return True\n",
    "    \n",
    "    \n",
    "    # Option 4:check via string method (index): \n",
    "    def chk_uniq_via_index(self): \n",
    "        if self.string is None:\n",
    "            return False\n",
    "        for element in self.string:\n",
    "            pos = self.string.index(element)\n",
    "            try:\n",
    "                if self.string.index(element, (pos+1)):\n",
    "                    return False\n",
    "            except ValueError :\n",
    "                continue\n",
    "            \n",
    "        return True    "
   ]
  },
  {
   "cell_type": "code",
   "execution_count": 2,
   "metadata": {},
   "outputs": [
    {
     "name": "stdout",
     "output_type": "stream",
     "text": [
      "The string passed is:ant\n"
     ]
    }
   ],
   "source": [
    "#string = \"foolish boy\"\n",
    "# string = \"\"\n",
    "#string = None\n",
    "string = \"ant\"\n",
    "obj = UniqChr(string)"
   ]
  },
  {
   "cell_type": "code",
   "execution_count": 3,
   "metadata": {},
   "outputs": [
    {
     "name": "stdout",
     "output_type": "stream",
     "text": [
      "True\n",
      "True\n",
      "True\n",
      "True\n"
     ]
    }
   ],
   "source": [
    "print(obj.chk_uniq_via_count())\n",
    "print(obj.chk_uniq_via_set())\n",
    "print(obj.chk_uniq_via_lst())\n",
    "print(obj.chk_uniq_via_index())"
   ]
  },
  {
   "cell_type": "markdown",
   "metadata": {},
   "source": [
    "#### Q2: a) Reverse a string\n",
    "- Input: string to be checked\n",
    "- Output: reversed string (`\"Can't perform reverse operation on given string\"` for **None** or **empty strings**)\n",
    "- Example:\n",
    "    >\"Apple is a fruit\" returns \"tiurf a si elppA\""
   ]
  },
  {
   "cell_type": "code",
   "execution_count": 4,
   "metadata": {},
   "outputs": [],
   "source": [
    "class StrReverse(UniqChr):\n",
    "    def __init__(self,string):\n",
    "        super().__init__(string) # lazy coding to get object initialized\n",
    "    \n",
    "    # Option 1: Using slice operator\n",
    "    def rev_str_slice(self):\n",
    "        if self.string is None or self.string is \"\":\n",
    "            return \"Can't perform reverse operation on given string\"\n",
    "        return self.string[::-1]\n",
    "    \n",
    "    # Option 2: Using reversed\n",
    "    def rev_str_method(self):\n",
    "        if self.string is None or self.string is \"\":\n",
    "            return \"Can't perform reverse operation on given string\"        \n",
    "        return \"\".join(list(reversed(self.string)))\n",
    "    \n",
    "    # Option 3: Loop approach\n",
    "    def rev_str_loop(self):     \n",
    "        if self.string is None or self.string is \"\":\n",
    "            return \"Can't perform reverse operation on given string\"        \n",
    "        newstr=\"\"\n",
    "        for i in range(len(string)-1,-1,-1):\n",
    "            newstr = newstr + string[i]\n",
    "        return newstr  \n",
    "        "
   ]
  },
  {
   "cell_type": "code",
   "execution_count": 5,
   "metadata": {},
   "outputs": [
    {
     "name": "stdout",
     "output_type": "stream",
     "text": [
      "The string passed is:Apple is a fruit\n"
     ]
    }
   ],
   "source": [
    "#string=None\n",
    "string = \"Apple is a fruit\"\n",
    "#string=\"\"\n",
    "obj = StrReverse(string)"
   ]
  },
  {
   "cell_type": "code",
   "execution_count": 6,
   "metadata": {},
   "outputs": [
    {
     "name": "stdout",
     "output_type": "stream",
     "text": [
      "tiurf a si elppA\n",
      "tiurf a si elppA\n",
      "tiurf a si elppA\n"
     ]
    }
   ],
   "source": [
    "print(obj.rev_str_slice())\n",
    "print(obj.rev_str_method())\n",
    "print(obj.rev_str_loop())"
   ]
  },
  {
   "cell_type": "markdown",
   "metadata": {},
   "source": [
    "#### Q2: b) Reverse words in a string\n",
    "- Input: string to be checked\n",
    "- Output: String with reversed words  (`\"Can't perform reverse operation on given string\"` for **None** or **empty** strings)\n",
    "\n",
    "Example:\n",
    ">\"Apple is a fruit\" returns \"elppA si a tiurf\""
   ]
  },
  {
   "cell_type": "code",
   "execution_count": 7,
   "metadata": {},
   "outputs": [],
   "source": [
    "class WordsRev(UniqChr):    \n",
    "    def __init__(self,string):\n",
    "        super().__init__(string)\n",
    "        \n",
    "    # Option 1:Using split,list comprehension and slice\n",
    "    def rev_words(self):\n",
    "        if self.string is None or self.string is \"\":\n",
    "            return \"Can't perform reverse operation on given string\"\n",
    "        revStr = \" \".join([word[::-1] for word in self.string.split(\" \")])\n",
    "        return (revStr.rstrip()).lstrip()\n",
    "    \n",
    "    # Option 2:Breaking down steps from Option 1\n",
    "    def rev_words_detail(self):\n",
    "        if self.string is None or self.string is \"\":\n",
    "            return \"Can't perform reverse operation on given string\"\n",
    "        revStr = \"\"\n",
    "        strLst = self.string.split(\" \")\n",
    "        for word in strLst:\n",
    "            revStr = revStr + \" \" + word[::-1]\n",
    "        return (revStr.rstrip()).lstrip()"
   ]
  },
  {
   "cell_type": "code",
   "execution_count": 8,
   "metadata": {},
   "outputs": [
    {
     "name": "stdout",
     "output_type": "stream",
     "text": [
      "The string passed is:Apple is a fruit ! I love it big time .\n"
     ]
    }
   ],
   "source": [
    "#string= \"\"\n",
    "string = \"Apple is a fruit ! I love it big time .\" # adding space btwn punctuations to keep things simple\n",
    "obj = WordsRev(string)"
   ]
  },
  {
   "cell_type": "code",
   "execution_count": 9,
   "metadata": {},
   "outputs": [
    {
     "name": "stdout",
     "output_type": "stream",
     "text": [
      "elppA si a tiurf ! I evol ti gib emit .\n",
      "elppA si a tiurf ! I evol ti gib emit .\n"
     ]
    }
   ],
   "source": [
    "print(obj.rev_words())\n",
    "print(obj.rev_words_detail())"
   ]
  },
  {
   "cell_type": "code",
   "execution_count": 10,
   "metadata": {},
   "outputs": [
    {
     "data": {
      "text/plain": [
       "True"
      ]
     },
     "execution_count": 10,
     "metadata": {},
     "output_type": "execute_result"
    }
   ],
   "source": [
    "obj.rev_words() == obj.rev_words_detail()"
   ]
  },
  {
   "cell_type": "code",
   "execution_count": null,
   "metadata": {},
   "outputs": [],
   "source": []
  },
  {
   "cell_type": "markdown",
   "metadata": {},
   "source": [
    "#### Q3. Write a program that prints the number of times the string `bob` occurs in `s`. For example, if s = 'azcbobobegghakl', then your program should print\n",
    "\n",
    "`Number of times bob occurs is: 2`"
   ]
  },
  {
   "cell_type": "code",
   "execution_count": 25,
   "metadata": {},
   "outputs": [
    {
     "name": "stdout",
     "output_type": "stream",
     "text": [
      "Number of times bob occurs is: 6\n"
     ]
    }
   ],
   "source": [
    "# Option 1\n",
    "def cnt_substrs():\n",
    "    s = 'bobazcbobobobegghaklbobbob'\n",
    "    i = 0\n",
    "    cnt = 0\n",
    "    while (i < len(s) ):\n",
    "        if s[i] == \"b\":\n",
    "            if s[i:i+3] == \"bob\":\n",
    "                cnt+=1\n",
    "        i+=1\n",
    "    print(f\"Number of times bob occurs is: {cnt}\")\n",
    "    \n",
    "cnt_substrs()    "
   ]
  },
  {
   "cell_type": "code",
   "execution_count": 28,
   "metadata": {},
   "outputs": [
    {
     "name": "stdout",
     "output_type": "stream",
     "text": [
      "Number of times bob occurs is: 6\n"
     ]
    }
   ],
   "source": [
    "# Option 2\n",
    "s = 'bobazcbobobobegghaklbobbob'\n",
    "cnt = 0\n",
    "for i in range(len(s)):\n",
    "    if s.startswith(\"bob\", i):\n",
    "        cnt+=1\n",
    "print(f\"Number of times bob occurs is: {cnt}\")"
   ]
  },
  {
   "cell_type": "code",
   "execution_count": null,
   "metadata": {},
   "outputs": [],
   "source": []
  },
  {
   "cell_type": "markdown",
   "metadata": {},
   "source": [
    "#### Q4: Write a program that prints the longest substring of s in which the letters occur in alphabetical order. \n",
    "For example, if `s = 'azcbobobegghakl'`, then your program should print:\n",
    "`Longest substring in alphabetical order is: beggh`\n",
    "\n",
    "In the case of ties, print the first substring. For example, if `s = 'abcbcd'`, then your program should print:\n",
    "`Longest substring in alphabetical order is: abc`"
   ]
  },
  {
   "cell_type": "markdown",
   "metadata": {},
   "source": [
    "#### Too detailed solution"
   ]
  },
  {
   "cell_type": "code",
   "execution_count": 111,
   "metadata": {},
   "outputs": [
    {
     "name": "stdout",
     "output_type": "stream",
     "text": [
      "[0, 1, 2, 3, 4, 5, 6, 7, 8, 9, 10, 11, 12, 13, 14, 15, 16, 17, 18, 19, 20, 21, 22, 23, 24, 25]\n",
      "Checking 0 and 1\n",
      "0 is less than or equal to 1\n",
      "loopstr at the start of if branch: a\n",
      "loopstr from if branch: ab\n",
      "Checking 1 and 2\n",
      "1 is less than or equal to 2\n",
      "loopstr at the start of if branch: ab\n",
      "loopstr from if branch: abc\n",
      "Checking 2 and 3\n",
      "2 is less than or equal to 3\n",
      "loopstr at the start of if branch: abc\n",
      "loopstr from if branch: abcd\n",
      "Checking 3 and 4\n",
      "3 is less than or equal to 4\n",
      "loopstr at the start of if branch: abcd\n",
      "loopstr from if branch: abcde\n",
      "Checking 4 and 5\n",
      "4 is less than or equal to 5\n",
      "loopstr at the start of if branch: abcde\n",
      "loopstr from if branch: abcdef\n",
      "Checking 5 and 6\n",
      "5 is less than or equal to 6\n",
      "loopstr at the start of if branch: abcdef\n",
      "loopstr from if branch: abcdefg\n",
      "Checking 6 and 7\n",
      "6 is less than or equal to 7\n",
      "loopstr at the start of if branch: abcdefg\n",
      "loopstr from if branch: abcdefgh\n",
      "Checking 7 and 8\n",
      "7 is less than or equal to 8\n",
      "loopstr at the start of if branch: abcdefgh\n",
      "loopstr from if branch: abcdefghi\n",
      "Checking 8 and 9\n",
      "8 is less than or equal to 9\n",
      "loopstr at the start of if branch: abcdefghi\n",
      "loopstr from if branch: abcdefghij\n",
      "Checking 9 and 10\n",
      "9 is less than or equal to 10\n",
      "loopstr at the start of if branch: abcdefghij\n",
      "loopstr from if branch: abcdefghijk\n",
      "Checking 10 and 11\n",
      "10 is less than or equal to 11\n",
      "loopstr at the start of if branch: abcdefghijk\n",
      "loopstr from if branch: abcdefghijkl\n",
      "Checking 11 and 12\n",
      "11 is less than or equal to 12\n",
      "loopstr at the start of if branch: abcdefghijkl\n",
      "loopstr from if branch: abcdefghijklm\n",
      "Checking 12 and 13\n",
      "12 is less than or equal to 13\n",
      "loopstr at the start of if branch: abcdefghijklm\n",
      "loopstr from if branch: abcdefghijklmn\n",
      "Checking 13 and 14\n",
      "13 is less than or equal to 14\n",
      "loopstr at the start of if branch: abcdefghijklmn\n",
      "loopstr from if branch: abcdefghijklmno\n",
      "Checking 14 and 15\n",
      "14 is less than or equal to 15\n",
      "loopstr at the start of if branch: abcdefghijklmno\n",
      "loopstr from if branch: abcdefghijklmnop\n",
      "Checking 15 and 16\n",
      "15 is less than or equal to 16\n",
      "loopstr at the start of if branch: abcdefghijklmnop\n",
      "loopstr from if branch: abcdefghijklmnopq\n",
      "Checking 16 and 17\n",
      "16 is less than or equal to 17\n",
      "loopstr at the start of if branch: abcdefghijklmnopq\n",
      "loopstr from if branch: abcdefghijklmnopqr\n",
      "Checking 17 and 18\n",
      "17 is less than or equal to 18\n",
      "loopstr at the start of if branch: abcdefghijklmnopqr\n",
      "loopstr from if branch: abcdefghijklmnopqrs\n",
      "Checking 18 and 19\n",
      "18 is less than or equal to 19\n",
      "loopstr at the start of if branch: abcdefghijklmnopqrs\n",
      "loopstr from if branch: abcdefghijklmnopqrst\n",
      "Checking 19 and 20\n",
      "19 is less than or equal to 20\n",
      "loopstr at the start of if branch: abcdefghijklmnopqrst\n",
      "loopstr from if branch: abcdefghijklmnopqrstu\n",
      "Checking 20 and 21\n",
      "20 is less than or equal to 21\n",
      "loopstr at the start of if branch: abcdefghijklmnopqrstu\n",
      "loopstr from if branch: abcdefghijklmnopqrstuv\n",
      "Checking 21 and 22\n",
      "21 is less than or equal to 22\n",
      "loopstr at the start of if branch: abcdefghijklmnopqrstuv\n",
      "loopstr from if branch: abcdefghijklmnopqrstuvw\n",
      "Checking 22 and 23\n",
      "22 is less than or equal to 23\n",
      "loopstr at the start of if branch: abcdefghijklmnopqrstuvw\n",
      "loopstr from if branch: abcdefghijklmnopqrstuvwx\n",
      "Checking 23 and 24\n",
      "23 is less than or equal to 24\n",
      "loopstr at the start of if branch: abcdefghijklmnopqrstuvwx\n",
      "loopstr from if branch: abcdefghijklmnopqrstuvwxy\n",
      "Checking 24 and 25\n",
      "24 is less than or equal to 25\n",
      "loopstr at the start of if branch: abcdefghijklmnopqrstuvwxy\n",
      "loopstr from if branch: abcdefghijklmnopqrstuvwxyz\n",
      "fstr: a\n",
      "loopstr: abcdefghijklmnopqrstuvwxyz\n",
      "Longest substring in alphabetical order is:  abcdefghijklmnopqrstuvwxyz\n"
     ]
    }
   ],
   "source": [
    "import string\n",
    "#s = 'azcbobobegghakl'\n",
    "#s = 'wrpklpwtzhlubgihsofjkuw'\n",
    "#s = 'hvdzeqvnnjjwxy'\n",
    "#s = 'abcdefghijklmnopqrstuvwxyz'\n",
    "\n",
    "\n",
    "nlst=[]\n",
    "for ltr in s:\n",
    "    #print(ltr)\n",
    "    idx = string.ascii_lowercase.index(ltr)\n",
    "    nlst.append(idx) \n",
    "    \n",
    "print(nlst)   \n",
    "\n",
    "\n",
    "#nlst = [0, 25, 2, 1, 14, 1, 14, 1, 4, 6, 6, 7, 0, 10, 11]\n",
    "#nlst = [0, 1, 2, 14, 1, 14, 1, 4, 6, 6, 7, 0, 10, 11]\n",
    "\n",
    "cursz = 0\n",
    "loopsz = 0\n",
    "val = 0\n",
    "alst=[]\n",
    "loopstr=\"\"\n",
    "fstr=\"\"\n",
    "loopstr = string.ascii_lowercase[nlst[0]]\n",
    "fstr = loopstr\n",
    "#for val in nlst:\n",
    "while val < len(nlst):\n",
    "    try:\n",
    "        print(f\"Checking {nlst[val]} and {nlst[val+1]}\")\n",
    "        if nlst[val] <= nlst[val+1]:\n",
    "            print(f\"{nlst[val]} is less than or equal to {nlst[val+1]}\")\n",
    "            print(\"loopstr at the start of if branch:\",loopstr)\n",
    "            if len(loopstr) == 0:\n",
    "                print(\"loopstr is empty initially; will add the character now\")\n",
    "                loopstr = string.ascii_lowercase[nlst[val]]\n",
    "                print(\"loopstr shldn't be empty now:\",loopstr)\n",
    "     \n",
    "            loopstr+= string.ascii_lowercase[nlst[val+1]]\n",
    "            print(\"loopstr from if branch:\",loopstr)\n",
    "                \n",
    "        else:\n",
    "            print(\"fstr:\",fstr)\n",
    "            print(\"loopstr:\",loopstr)\n",
    "            if len(loopstr)>len(fstr):\n",
    "                fstr = loopstr\n",
    "                print(\"New fstr:\", fstr)\n",
    "                loopstr = \"\"\n",
    "                print(\"New loopstr:\", loopstr)\n",
    "                print(\"*****************\")\n",
    "            else:\n",
    "                print(f\"NOTE:{loopstr} is either small or of same length as that of {fstr}; not changing\\n\")\n",
    "                print(\"========================\")\n",
    "                loopstr = \"\"\n",
    "                print(\"New loopstr:\", loopstr)\n",
    "                \n",
    "        \n",
    "        val+=1\n",
    "    except IndexError:\n",
    "        print(\"fstr:\",fstr)\n",
    "        print(\"loopstr:\",loopstr)\n",
    "        if len(loopstr)>len(fstr):\n",
    "            fstr = loopstr\n",
    "        break\n",
    "print(\"Longest substring in alphabetical order is: \",fstr)            "
   ]
  },
  {
   "cell_type": "code",
   "execution_count": null,
   "metadata": {},
   "outputs": [],
   "source": []
  },
  {
   "cell_type": "markdown",
   "metadata": {},
   "source": [
    "#### Just the solution"
   ]
  },
  {
   "cell_type": "code",
   "execution_count": 125,
   "metadata": {},
   "outputs": [
    {
     "name": "stdout",
     "output_type": "stream",
     "text": [
      "Longest substring in alphabetical order is:  abcdefghijklmnopqrstuvwxyz\n"
     ]
    }
   ],
   "source": [
    "import string\n",
    "#s = 'azcbobobegghakl'\n",
    "#s = 'wrpklpwtzhlubgihsofjkuw'\n",
    "#s = 'hvdzeqvnnjjwxy'\n",
    "s = 'abcdefghijklmnopqrstuvwxyz'\n",
    "#s = 'wmnlmmbp'\n",
    "#s = 'jbadbvxzwwkqbvsm'\n",
    "#s = 'gzqoeatsocubjmdfz'\n",
    "#s = 'wkpbucwlds'\n",
    "#s = 'ddjmznjjdbkcj'\n",
    "#s = 'kzgzibqwwmuprqrsrcng'\n",
    "#s = 'qpuuedeq'\n",
    "#s = 'zyxwvutsrqponmlkjihgfedcba'\n",
    "#s = 'uecleagzyqkkacaecxhj'\n",
    "\n",
    "nlst=[]\n",
    "for ltr in s:\n",
    "    idx = string.ascii_lowercase.index(ltr)\n",
    "    nlst.append(idx) \n",
    "\n",
    "val = 0\n",
    "alst=[]\n",
    "loopstr=\"\"\n",
    "fstr=\"\"\n",
    "loopstr = string.ascii_lowercase[nlst[0]]\n",
    "fstr = loopstr\n",
    "while val < len(nlst):\n",
    "    try:\n",
    "        if nlst[val] <= nlst[val+1]:\n",
    "            if len(loopstr) == 0:\n",
    "                loopstr = string.ascii_lowercase[nlst[val]]\n",
    "            loopstr+= string.ascii_lowercase[nlst[val+1]]\n",
    "                \n",
    "        else:\n",
    "            if len(loopstr)>len(fstr):\n",
    "                fstr = loopstr\n",
    "                loopstr = \"\"\n",
    "            else:\n",
    "                loopstr = \"\"\n",
    "        val+=1\n",
    "    except IndexError:\n",
    "        if len(loopstr)>len(fstr):\n",
    "            fstr = loopstr\n",
    "        break\n",
    "print(\"Longest substring in alphabetical order is: \",fstr)            "
   ]
  },
  {
   "cell_type": "code",
   "execution_count": null,
   "metadata": {},
   "outputs": [],
   "source": []
  },
  {
   "cell_type": "markdown",
   "metadata": {},
   "source": [
    "#### Q5:\n",
    "A regular polygon has n number of sides. Each side has length s.\n",
    "\n",
    "- The area of a regular polygon is:  0.25∗𝑛∗$𝑠^2$/𝑡𝑎𝑛(𝜋/𝑛) \n",
    "- The perimeter of a polygon is: length of the boundary of the polygon\n",
    "\n",
    "Write a function called `polysum` that takes 2 arguments, `n and s`. This function should `sum the area and square of the perimeter` of the regular polygon. \n",
    "The function returns the `sum`, rounded to 4 decimal places."
   ]
  },
  {
   "cell_type": "code",
   "execution_count": 5,
   "metadata": {},
   "outputs": [
    {
     "data": {
      "text/plain": [
       "668.0119"
      ]
     },
     "execution_count": 5,
     "metadata": {},
     "output_type": "execute_result"
    }
   ],
   "source": [
    "import math\n",
    "def polysum(n,s):\n",
    "    area = 0.25 * n * s*s/math.tan(math.pi/n)\n",
    "    perimeter = n * s\n",
    "    sumVal = area + (perimeter ** 2)\n",
    "    return round(sumVal,4)\n",
    "\n",
    "#polysum(5,5)"
   ]
  },
  {
   "cell_type": "markdown",
   "metadata": {},
   "source": [
    "#### Q6: Given a `getSquare()` function, make a list comprehension that returns a list with the squares of all even numbers from 0 to 20, but ignores those numbers that are divisible by 3."
   ]
  },
  {
   "cell_type": "code",
   "execution_count": 8,
   "metadata": {},
   "outputs": [
    {
     "name": "stdout",
     "output_type": "stream",
     "text": [
      "[2, 4, 8, 10, 14, 16, 20]\n"
     ]
    }
   ],
   "source": [
    "def getSquare():\n",
    "    return [i  for i in range (0,21) if (i%2==0) and (i%3!=0) ]\n",
    "\n",
    "print(getSquare())"
   ]
  },
  {
   "cell_type": "code",
   "execution_count": null,
   "metadata": {},
   "outputs": [],
   "source": []
  },
  {
   "cell_type": "code",
   "execution_count": null,
   "metadata": {},
   "outputs": [],
   "source": []
  },
  {
   "cell_type": "code",
   "execution_count": null,
   "metadata": {},
   "outputs": [],
   "source": []
  },
  {
   "cell_type": "code",
   "execution_count": null,
   "metadata": {},
   "outputs": [],
   "source": []
  }
 ],
 "metadata": {
  "kernelspec": {
   "display_name": "Python 3",
   "language": "python",
   "name": "python3"
  },
  "language_info": {
   "codemirror_mode": {
    "name": "ipython",
    "version": 3
   },
   "file_extension": ".py",
   "mimetype": "text/x-python",
   "name": "python",
   "nbconvert_exporter": "python",
   "pygments_lexer": "ipython3",
   "version": "3.7.7"
  }
 },
 "nbformat": 4,
 "nbformat_minor": 4
}
