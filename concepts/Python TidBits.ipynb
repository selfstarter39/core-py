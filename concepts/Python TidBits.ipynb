{
 "cells": [
  {
   "cell_type": "markdown",
   "metadata": {},
   "source": [
    "### print()\n",
    "\n",
    "**Points to remember**:\n",
    "- It is a function; therefore accepts arguments.\n",
    "- Positional argument should precede keyword arguments\n",
    "- General syntax of print(): \n",
    "    > _print(positional args, keyword args)_ -> print(message , `sep = space`, `end = \\n`)\n",
    "   - None of the above argument is mandatory\n",
    "   - message is an empty string ( `\"\"`) by default\n",
    "   - sep = space by default\n",
    "   - end = \\n by default\n",
    "   - We don't have to pass any of the default parameter\n",
    "\n",
    "#### E.g. 1:\n",
    "\n",
    "- **Printing a blank line:- (no argument is needed)**"
   ]
  },
  {
   "cell_type": "code",
   "execution_count": 25,
   "metadata": {},
   "outputs": [
    {
     "name": "stdout",
     "output_type": "stream",
     "text": [
      "\n"
     ]
    }
   ],
   "source": [
    "print() # Option 1"
   ]
  },
  {
   "cell_type": "code",
   "execution_count": 26,
   "metadata": {},
   "outputs": [
    {
     "name": "stdout",
     "output_type": "stream",
     "text": [
      "\n"
     ]
    }
   ],
   "source": [
    "print(\"\") # Option 2"
   ]
  },
  {
   "cell_type": "markdown",
   "metadata": {},
   "source": [
    "#### E.g.2\n",
    "#### print() with postional arguments (strings are passed as positional args, while keyword args are default)"
   ]
  },
  {
   "cell_type": "code",
   "execution_count": 27,
   "metadata": {},
   "outputs": [
    {
     "name": "stdout",
     "output_type": "stream",
     "text": [
      "Hello World today.\n",
      "How are you doing?\n"
     ]
    }
   ],
   "source": [
    "print(\"Hello\",\"World\", \"today.\")\n",
    "print(\"How\", \"are\", \"you doing?\")"
   ]
  },
  {
   "cell_type": "markdown",
   "metadata": {},
   "source": [
    "#### Items to note:\n",
    "- The strings are passed as `positional args`. This means:\n",
    "    * Postion/Sequence in which they are passed **matters**\n",
    "    * Therefore \"Hello\" comes before \"World\"\n",
    "- print() can have as many arguments as needed separated by `commas`\n",
    "- positional arguments are separated by `space` automatically (_sep_ =\"  \" by default)\n",
    "- print() statements are printed on `new lines` automatically (_end_ = \"\\n\" by default)"
   ]
  },
  {
   "cell_type": "markdown",
   "metadata": {},
   "source": [
    "#### E.g.3\n",
    "#### print() with positional and keyword arguments"
   ]
  },
  {
   "cell_type": "code",
   "execution_count": 28,
   "metadata": {},
   "outputs": [
    {
     "name": "stdout",
     "output_type": "stream",
     "text": [
      "Hello World today. How are you doing?\n"
     ]
    }
   ],
   "source": [
    "print(\"Hello\",\"World\", \"today.\", end = \" \")\n",
    "print(\"How\", \"are\", \"you doing?\")"
   ]
  },
  {
   "cell_type": "markdown",
   "metadata": {},
   "source": [
    "Items to note:\n",
    "- **end** no longer defaults to **\\n**. Therefore both messages get printed on same line    "
   ]
  },
  {
   "cell_type": "markdown",
   "metadata": {},
   "source": [
    "#### E.g.4\n",
    "#### print() with positional and keyword arguments"
   ]
  },
  {
   "cell_type": "code",
   "execution_count": 29,
   "metadata": {},
   "outputs": [
    {
     "name": "stdout",
     "output_type": "stream",
     "text": [
      "Hello_World_today.How_are_you_doing?\n"
     ]
    }
   ],
   "source": [
    "print(\"Hello\",\"World\", \"today.\", sep = \"_\", end = \"\")\n",
    "print(\"How\", \"are\", \"you\" ,\"doing?\",sep = \"_\")"
   ]
  },
  {
   "cell_type": "markdown",
   "metadata": {},
   "source": [
    "Items to note:\n",
    "- Default separator has been replaced with an `_`\n",
    "- end = \"\"; so both messages will be placed on same line."
   ]
  },
  {
   "cell_type": "markdown",
   "metadata": {},
   "source": [
    "#### Assignment 1: \n",
    "\n",
    "Let's print the following: (3 separate lines)\n",
    ">print()_is_cool_in...Python\n",
    "\n",
    "> small&sweet"
   ]
  },
  {
   "cell_type": "code",
   "execution_count": 30,
   "metadata": {},
   "outputs": [
    {
     "name": "stdout",
     "output_type": "stream",
     "text": [
      "print()_is_cool_in...Python\n",
      "small&sweet\n"
     ]
    }
   ],
   "source": [
    "print(\"print()\",\"is\",\"cool\",\"in\",sep = \"_\",end =\"...\")\n",
    "print(\"Python\")\n",
    "print(\"small\",\"sweet\",sep=\"&\")"
   ]
  },
  {
   "cell_type": "markdown",
   "metadata": {},
   "source": [
    "#### Assignment 2: \n",
    "\n",
    "Print first 5 natural nos on one line"
   ]
  },
  {
   "cell_type": "code",
   "execution_count": 35,
   "metadata": {},
   "outputs": [
    {
     "name": "stdout",
     "output_type": "stream",
     "text": [
      "0 1 2 3 4 "
     ]
    }
   ],
   "source": [
    "for i in range(5):\n",
    "    print(i,end=\" \")"
   ]
  }
 ],
 "metadata": {
  "kernelspec": {
   "display_name": "Python 3",
   "language": "python",
   "name": "python3"
  },
  "language_info": {
   "codemirror_mode": {
    "name": "ipython",
    "version": 3
   },
   "file_extension": ".py",
   "mimetype": "text/x-python",
   "name": "python",
   "nbconvert_exporter": "python",
   "pygments_lexer": "ipython3",
   "version": "3.7.7"
  }
 },
 "nbformat": 4,
 "nbformat_minor": 4
}
