{
 "cells": [
  {
   "cell_type": "markdown",
   "metadata": {},
   "source": [
    "### print()\n",
    "\n",
    "**Points to remember**:\n",
    "- It is a function; therefore accepts arguments.\n",
    "- Positional argument should precede keyword arguments\n",
    "- General syntax of print(): \n",
    "    > _print(positional args, keyword args)_ -> print(message , `sep = space`, `end = \\n`)\n",
    "   - None of the above argument is mandatory\n",
    "   - message is an empty string ( `\"\"`) by default\n",
    "   - sep = space by default\n",
    "   - end = \\n by default\n",
    "   - We don't have to pass any of the default parameter\n",
    "\n",
    "#### E.g:\n",
    "\n",
    "- **Printing a blank line:- (no argument is needed)**"
   ]
  },
  {
   "cell_type": "code",
   "execution_count": 13,
   "metadata": {},
   "outputs": [
    {
     "name": "stdout",
     "output_type": "stream",
     "text": [
      "\n"
     ]
    }
   ],
   "source": [
    "print() # Option 1"
   ]
  },
  {
   "cell_type": "code",
   "execution_count": 14,
   "metadata": {},
   "outputs": [
    {
     "name": "stdout",
     "output_type": "stream",
     "text": [
      "\n"
     ]
    }
   ],
   "source": [
    "print(\"\") # Option 2"
   ]
  },
  {
   "cell_type": "markdown",
   "metadata": {},
   "source": [
    "#### print() with postional arguments (strings are passed as positional args, while keyword args are default)"
   ]
  },
  {
   "cell_type": "code",
   "execution_count": 7,
   "metadata": {},
   "outputs": [
    {
     "name": "stdout",
     "output_type": "stream",
     "text": [
      "Hello World today.\n",
      "How are you doing?\n"
     ]
    }
   ],
   "source": [
    "print(\"Hello\",\"World\", \"today.\")\n",
    "print(\"How\", \"are\", \"you doing?\")"
   ]
  },
  {
   "cell_type": "markdown",
   "metadata": {},
   "source": [
    "#### Items to note:\n",
    "- The strings are passed as `positional args`. This means:\n",
    "    * Postion/Sequence in which they are passed **matters**\n",
    "    * Therefore \"Hello\" comes before \"World\"\n",
    "- print() can have as many arguments as needed separated by `commas`\n",
    "- positional arguments are separated by `space` automatically (_sep_ =\"  \" by default_)\n",
    "- by default print() statements are printed on `new lines`  (_end_ = \"\\n\" by default)"
   ]
  },
  {
   "cell_type": "markdown",
   "metadata": {},
   "source": [
    "#### print() with positional and keyword arguments"
   ]
  },
  {
   "cell_type": "code",
   "execution_count": 8,
   "metadata": {},
   "outputs": [
    {
     "name": "stdout",
     "output_type": "stream",
     "text": [
      "Hello World today. How are you doing?\n"
     ]
    }
   ],
   "source": [
    "print(\"Hello\",\"World\", \"today.\", end = \" \")\n",
    "print(\"How\", \"are\", \"you doing?\")"
   ]
  },
  {
   "cell_type": "markdown",
   "metadata": {},
   "source": [
    "Items to note:\n",
    "- **end** no longer defaults to **\\n**. Therefore both messages get printed on same line    "
   ]
  },
  {
   "cell_type": "code",
   "execution_count": null,
   "metadata": {},
   "outputs": [],
   "source": []
  },
  {
   "cell_type": "code",
   "execution_count": null,
   "metadata": {},
   "outputs": [],
   "source": []
  },
  {
   "cell_type": "code",
   "execution_count": null,
   "metadata": {},
   "outputs": [],
   "source": []
  },
  {
   "cell_type": "code",
   "execution_count": null,
   "metadata": {},
   "outputs": [],
   "source": []
  }
 ],
 "metadata": {
  "kernelspec": {
   "display_name": "Python 3",
   "language": "python",
   "name": "python3"
  },
  "language_info": {
   "codemirror_mode": {
    "name": "ipython",
    "version": 3
   },
   "file_extension": ".py",
   "mimetype": "text/x-python",
   "name": "python",
   "nbconvert_exporter": "python",
   "pygments_lexer": "ipython3",
   "version": "3.7.7"
  }
 },
 "nbformat": 4,
 "nbformat_minor": 4
}
