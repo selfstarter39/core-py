{
 "cells": [
  {
   "cell_type": "markdown",
   "metadata": {},
   "source": [
    "## Exploring Python Standard Library"
   ]
  },
  {
   "cell_type": "markdown",
   "metadata": {},
   "source": [
    "### collections — Container datatypes\n",
    "\n",
    "This module implements **specialized container datatypes providing alternatives to Python’s general purpose built-in containers**, dict, list, set, and tuple."
   ]
  },
  {
   "cell_type": "markdown",
   "metadata": {},
   "source": [
    "### Counter : dict subclass for counting hashable objects\n",
    "- It's a special dictionary that can store ferquency of occurance of each element\n",
    "\n",
    "_Let's see an example_\n",
    "**Problem statement**: Count the frequency of occurances of each word in the below string:<br>\n",
    "`The brown fox jumps over the brown lazy dog into the brown backyard where it had brown cubs`"
   ]
  },
  {
   "cell_type": "code",
   "execution_count": 14,
   "metadata": {},
   "outputs": [],
   "source": [
    "### Approach 1: updating count via dictionary\n",
    "\n",
    "def approach_1():\n",
    "    cnt_dict={}\n",
    "    tstr = \"The brown fox jumps over the brown lazy dog into the brown backyard where it had brown cubs\"\n",
    "    #print(tstr.split())\n",
    "    for element in tstr.lower().split():\n",
    "        cnt_dict.setdefault(element,0)\n",
    "        cnt_dict[element] +=1\n",
    "        \n",
    "    return cnt_dict  \n",
    "        "
   ]
  },
  {
   "cell_type": "code",
   "execution_count": 16,
   "metadata": {},
   "outputs": [
    {
     "name": "stdout",
     "output_type": "stream",
     "text": [
      "backyard:1\n",
      "brown:4\n",
      "cubs:1\n",
      "dog:1\n",
      "fox:1\n",
      "had:1\n",
      "into:1\n",
      "it:1\n",
      "jumps:1\n",
      "lazy:1\n",
      "over:1\n",
      "the:3\n",
      "where:1\n"
     ]
    }
   ],
   "source": [
    "for k,v in sorted(approach_1().items()):\n",
    "    print(f\"{k}:{v}\")"
   ]
  },
  {
   "cell_type": "code",
   "execution_count": 12,
   "metadata": {},
   "outputs": [],
   "source": [
    "### Approach 2: via Counter\n",
    "\n",
    "from collections import Counter\n",
    "def approach_2():\n",
    "    tstr = \"The brown fox jumps over the brown lazy dog into the brown backyard where it had brown cubs\"\n",
    "    cnt_dict = Counter(tstr.lower().split())\n",
    "    return cnt_dict"
   ]
  },
  {
   "cell_type": "code",
   "execution_count": 17,
   "metadata": {},
   "outputs": [
    {
     "name": "stdout",
     "output_type": "stream",
     "text": [
      "backyard:1\n",
      "brown:4\n",
      "cubs:1\n",
      "dog:1\n",
      "fox:1\n",
      "had:1\n",
      "into:1\n",
      "it:1\n",
      "jumps:1\n",
      "lazy:1\n",
      "over:1\n",
      "the:3\n",
      "where:1\n"
     ]
    }
   ],
   "source": [
    "for k,v in sorted(approach_2().items()):\n",
    "    print(f\"{k}:{v}\")"
   ]
  },
  {
   "cell_type": "code",
   "execution_count": null,
   "metadata": {},
   "outputs": [],
   "source": []
  },
  {
   "cell_type": "code",
   "execution_count": null,
   "metadata": {},
   "outputs": [],
   "source": []
  },
  {
   "cell_type": "code",
   "execution_count": null,
   "metadata": {},
   "outputs": [],
   "source": []
  },
  {
   "cell_type": "code",
   "execution_count": null,
   "metadata": {},
   "outputs": [],
   "source": []
  },
  {
   "cell_type": "code",
   "execution_count": null,
   "metadata": {},
   "outputs": [],
   "source": []
  }
 ],
 "metadata": {
  "kernelspec": {
   "display_name": "Python 3",
   "language": "python",
   "name": "python3"
  },
  "language_info": {
   "codemirror_mode": {
    "name": "ipython",
    "version": 3
   },
   "file_extension": ".py",
   "mimetype": "text/x-python",
   "name": "python",
   "nbconvert_exporter": "python",
   "pygments_lexer": "ipython3",
   "version": "3.7.7"
  }
 },
 "nbformat": 4,
 "nbformat_minor": 4
}
