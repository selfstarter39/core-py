{
 "cells": [
  {
   "cell_type": "markdown",
   "metadata": {},
   "source": [
    "## Exploring Python Standard Library"
   ]
  },
  {
   "cell_type": "markdown",
   "metadata": {},
   "source": [
    "### collections — Container datatypes\n",
    "\n",
    "This module implements **specialized container datatypes providing alternatives to Python’s general purpose built-in containers**, dict, list, set, and tuple."
   ]
  },
  {
   "cell_type": "markdown",
   "metadata": {},
   "source": [
    "### Counter : dict subclass for counting hashable objects\n",
    "- It's a special dictionary that can store frequency of occurance of each element\n",
    "- It is a collection where elements are stored as dictionary keys and their counts are stored as dictionary values\n",
    "- Unlike dictionary, Counter returns `0` and not KeyError when an item which doesn't exist is looked up \n",
    "\n",
    "### Big Idea: \n",
    "Pass an iterable to Counter() to get the count of each element in the iterable\n",
    "\n",
    "_Let's see an example_\n",
    "**Problem statement**: Count the frequency of occurances of each word in the below string:<br>\n",
    "`The brown fox jumps over the brown lazy dog into the brown backyard where it had brown cubs`"
   ]
  },
  {
   "cell_type": "code",
   "execution_count": 14,
   "metadata": {},
   "outputs": [],
   "source": [
    "### Approach 1: updating count via dictionary\n",
    "\n",
    "def approach_1():\n",
    "    cnt_dict={}\n",
    "    tstr = \"The brown fox jumps over the brown lazy dog into the brown backyard where it had brown cubs\"\n",
    "    #print(tstr.split())\n",
    "    for element in tstr.lower().split():\n",
    "        cnt_dict.setdefault(element,0)\n",
    "        cnt_dict[element] +=1\n",
    "        \n",
    "    return cnt_dict  \n",
    "        "
   ]
  },
  {
   "cell_type": "code",
   "execution_count": 16,
   "metadata": {},
   "outputs": [
    {
     "name": "stdout",
     "output_type": "stream",
     "text": [
      "backyard:1\n",
      "brown:4\n",
      "cubs:1\n",
      "dog:1\n",
      "fox:1\n",
      "had:1\n",
      "into:1\n",
      "it:1\n",
      "jumps:1\n",
      "lazy:1\n",
      "over:1\n",
      "the:3\n",
      "where:1\n"
     ]
    }
   ],
   "source": [
    "for k,v in sorted(approach_1().items()):\n",
    "    print(f\"{k}:{v}\")"
   ]
  },
  {
   "cell_type": "code",
   "execution_count": 2,
   "metadata": {},
   "outputs": [],
   "source": [
    "### Approach 2: via Counter\n",
    "from collections import Counter"
   ]
  },
  {
   "cell_type": "code",
   "execution_count": 3,
   "metadata": {},
   "outputs": [],
   "source": [
    "def approach_2():\n",
    "    tstr = \"The brown fox jumps over the brown lazy dog into the brown backyard where it had brown cubs\"\n",
    "    cnt_dict = Counter(tstr.lower().split())\n",
    "    return cnt_dict"
   ]
  },
  {
   "cell_type": "code",
   "execution_count": 4,
   "metadata": {},
   "outputs": [
    {
     "name": "stdout",
     "output_type": "stream",
     "text": [
      "backyard:1\n",
      "brown:4\n",
      "cubs:1\n",
      "dog:1\n",
      "fox:1\n",
      "had:1\n",
      "into:1\n",
      "it:1\n",
      "jumps:1\n",
      "lazy:1\n",
      "over:1\n",
      "the:3\n",
      "where:1\n"
     ]
    }
   ],
   "source": [
    "for k,v in sorted(approach_2().items()):\n",
    "    print(f\"{k}:{v}\")"
   ]
  },
  {
   "cell_type": "markdown",
   "metadata": {},
   "source": [
    "### Two important methods supplied with Counter"
   ]
  },
  {
   "cell_type": "code",
   "execution_count": 5,
   "metadata": {},
   "outputs": [],
   "source": [
    "tstr = \"The brown fox jumps over the brown lazy dog into the brown backyard where it had brown cubs\"\n",
    "c_dct = Counter(tstr.lower().split())"
   ]
  },
  {
   "cell_type": "markdown",
   "metadata": {},
   "source": [
    "**Counter.elements()**\n",
    "- generates an iterator; so I have used a list to iterate over the values\n",
    "- displays each element the number of times it has occured as per the Counter"
   ]
  },
  {
   "cell_type": "markdown",
   "metadata": {},
   "source": [
    "**Counter.most_common(n)**\n",
    "- displays a list of `n` top most occuring elements along with their frequency\n",
    "- the diplay happens in descending order\n",
    "- elements with equal counts are displayed in the order they have been passed as input to `Counter`"
   ]
  },
  {
   "cell_type": "code",
   "execution_count": 12,
   "metadata": {},
   "outputs": [
    {
     "data": {
      "text/plain": [
       "['backyard',\n",
       " 'brown',\n",
       " 'brown',\n",
       " 'brown',\n",
       " 'brown',\n",
       " 'cubs',\n",
       " 'dog',\n",
       " 'fox',\n",
       " 'had',\n",
       " 'into',\n",
       " 'it',\n",
       " 'jumps',\n",
       " 'lazy',\n",
       " 'over',\n",
       " 'the',\n",
       " 'the',\n",
       " 'the',\n",
       " 'where']"
      ]
     },
     "execution_count": 12,
     "metadata": {},
     "output_type": "execute_result"
    }
   ],
   "source": [
    "list(sorted(c_dct.elements()))"
   ]
  },
  {
   "cell_type": "code",
   "execution_count": 13,
   "metadata": {},
   "outputs": [
    {
     "data": {
      "text/plain": [
       "[('brown', 4), ('the', 3), ('fox', 1)]"
      ]
     },
     "execution_count": 13,
     "metadata": {},
     "output_type": "execute_result"
    }
   ],
   "source": [
    "c_dct.most_common(3)"
   ]
  },
  {
   "cell_type": "code",
   "execution_count": 14,
   "metadata": {},
   "outputs": [
    {
     "data": {
      "text/plain": [
       "[('brown', 4), ('the', 3), ('fox', 1), ('jumps', 1)]"
      ]
     },
     "execution_count": 14,
     "metadata": {},
     "output_type": "execute_result"
    }
   ],
   "source": [
    "c_dct.most_common(4)"
   ]
  },
  {
   "cell_type": "code",
   "execution_count": 16,
   "metadata": {},
   "outputs": [
    {
     "data": {
      "text/plain": [
       "0"
      ]
     },
     "execution_count": 16,
     "metadata": {},
     "output_type": "execute_result"
    }
   ],
   "source": [
    "c_dct[\"unknown_element\"] ## note that Counter doesn't throw a KeyError"
   ]
  },
  {
   "cell_type": "code",
   "execution_count": null,
   "metadata": {},
   "outputs": [],
   "source": []
  },
  {
   "cell_type": "code",
   "execution_count": null,
   "metadata": {},
   "outputs": [],
   "source": []
  },
  {
   "cell_type": "code",
   "execution_count": null,
   "metadata": {},
   "outputs": [],
   "source": []
  },
  {
   "cell_type": "code",
   "execution_count": null,
   "metadata": {},
   "outputs": [],
   "source": []
  },
  {
   "cell_type": "code",
   "execution_count": null,
   "metadata": {},
   "outputs": [],
   "source": []
  },
  {
   "cell_type": "code",
   "execution_count": null,
   "metadata": {},
   "outputs": [],
   "source": []
  },
  {
   "cell_type": "code",
   "execution_count": null,
   "metadata": {},
   "outputs": [],
   "source": []
  },
  {
   "cell_type": "code",
   "execution_count": null,
   "metadata": {},
   "outputs": [],
   "source": []
  }
 ],
 "metadata": {
  "kernelspec": {
   "display_name": "Python 3",
   "language": "python",
   "name": "python3"
  },
  "language_info": {
   "codemirror_mode": {
    "name": "ipython",
    "version": 3
   },
   "file_extension": ".py",
   "mimetype": "text/x-python",
   "name": "python",
   "nbconvert_exporter": "python",
   "pygments_lexer": "ipython3",
   "version": "3.7.7"
  }
 },
 "nbformat": 4,
 "nbformat_minor": 4
}
