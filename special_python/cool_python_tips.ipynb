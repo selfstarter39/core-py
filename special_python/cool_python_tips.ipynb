{
 "cells": [
  {
   "cell_type": "markdown",
   "metadata": {},
   "source": [
    "## Learn-by-doing python stuffs:\n",
    "- In this workbook I. shall try to explain with simple examples some of the intermediate python features.\n",
    "- As usual, there will be less theory and more code."
   ]
  },
  {
   "cell_type": "markdown",
   "metadata": {},
   "source": [
    "### enumerate()\n",
    "- `Want a free counter for your iterator? Use enumerate()`\n",
    "- A lot of times while looping over an iterator we realize the need of a counter.\n",
    "- In such situations, a common workaround which one does is using a range function. This semingly appears to be an overcomplication of the given situation.\n",
    "- Python's built-in **enumerate()** methods seems to be the perfect fit for such cases. \n",
    "\n",
    "_Let's see an example_\n"
   ]
  },
  {
   "cell_type": "code",
   "execution_count": 1,
   "metadata": {},
   "outputs": [],
   "source": [
    "\"\"\"\n",
    "* Say we have a situation where we have generated the list of students sorted by the marks obtained \n",
    "in descending order.\n",
    "* We want to display the names of the students along with their rank \n",
    "(as students as arranged from highest->lowest marks, it is implied that the student at index 0 came 1st,\n",
    "student at index 1 came 2nd and so on )\n",
    "\n",
    "\"\"\"\n",
    "lst = [\"StudA\",\"StudB\",\"StudC\",\"StudD\",\"StudE\",]"
   ]
  },
  {
   "cell_type": "code",
   "execution_count": 3,
   "metadata": {},
   "outputs": [
    {
     "name": "stdout",
     "output_type": "stream",
     "text": [
      "StudA has secured position 1 in the class\n",
      "StudB has secured position 2 in the class\n",
      "StudC has secured position 3 in the class\n",
      "StudD has secured position 4 in the class\n",
      "StudE has secured position 5 in the class\n"
     ]
    }
   ],
   "source": [
    "# Approach 1: via range()\n",
    "for stud in range(len(lst)):\n",
    "    print(f\"{lst[stud]} has secured position {stud+1} in the class\")"
   ]
  },
  {
   "cell_type": "markdown",
   "metadata": {},
   "source": [
    "The above code is clumsy for the following reasons:\n",
    "- I have to get the length of the list\n",
    "- I have to run range() over the length of the list to get the index\n",
    "- I have to increment the range val by 1 and grab list[index] at every iteration\n",
    "\n",
    "**enumerate() addresses this situation in a pythonic way**."
   ]
  },
  {
   "cell_type": "code",
   "execution_count": 4,
   "metadata": {},
   "outputs": [
    {
     "name": "stdout",
     "output_type": "stream",
     "text": [
      "StudA has secured position 1 in the class\n",
      "StudB has secured position 2 in the class\n",
      "StudC has secured position 3 in the class\n",
      "StudD has secured position 4 in the class\n",
      "StudE has secured position 5 in the class\n"
     ]
    }
   ],
   "source": [
    "for idx, stud in enumerate(lst,start=1):\n",
    "    print(f\"{stud} has secured position {idx} in the class\")\n",
    "    "
   ]
  },
  {
   "cell_type": "markdown",
   "metadata": {},
   "source": [
    "**What's happening here?**\n",
    "- enumerate() wraps any iterator with a generator\n",
    "- enumerate() returns an instance of an enumerate object which is an iterator\n",
    "- It then yields a tuple containing pair of successive loop indexes, and the `next()` value from the sequence which has been passed to enumerate() function\n",
    "- enumerate() starts from 0 (default), but can be take start=any-integer-value as the beginning of the index"
   ]
  },
  {
   "cell_type": "code",
   "execution_count": 6,
   "metadata": {},
   "outputs": [
    {
     "data": {
      "text/plain": [
       "<enumerate at 0x1092dc0a0>"
      ]
     },
     "execution_count": 6,
     "metadata": {},
     "output_type": "execute_result"
    }
   ],
   "source": [
    "# enumerate returns an enumerate object\n",
    "enumerate([\"a\",\"b\",\"c\",\"d\"])"
   ]
  },
  {
   "cell_type": "code",
   "execution_count": 7,
   "metadata": {},
   "outputs": [
    {
     "data": {
      "text/plain": [
       "[(0, 'a'), (1, 'b'), (2, 'c'), (3, 'd')]"
      ]
     },
     "execution_count": 7,
     "metadata": {},
     "output_type": "execute_result"
    }
   ],
   "source": [
    "# each element is a tuple that with the index and the original item value\n",
    "list(enumerate([\"a\",\"b\",\"c\",\"d\"]))"
   ]
  },
  {
   "cell_type": "code",
   "execution_count": 8,
   "metadata": {},
   "outputs": [
    {
     "name": "stdout",
     "output_type": "stream",
     "text": [
      "0 a\n",
      "1 b\n",
      "2 c\n",
      "3 d\n"
     ]
    }
   ],
   "source": [
    "for i,j in list(enumerate([\"a\",\"b\",\"c\",\"d\"])):\n",
    "    print(i,j)"
   ]
  },
  {
   "cell_type": "code",
   "execution_count": 5,
   "metadata": {},
   "outputs": [
    {
     "name": "stdout",
     "output_type": "stream",
     "text": [
      "Help on class enumerate in module builtins:\n",
      "\n",
      "class enumerate(object)\n",
      " |  enumerate(iterable, start=0)\n",
      " |  \n",
      " |  Return an enumerate object.\n",
      " |  \n",
      " |    iterable\n",
      " |      an object supporting iteration\n",
      " |  \n",
      " |  The enumerate object yields pairs containing a count (from start, which\n",
      " |  defaults to zero) and a value yielded by the iterable argument.\n",
      " |  \n",
      " |  enumerate is useful for obtaining an indexed list:\n",
      " |      (0, seq[0]), (1, seq[1]), (2, seq[2]), ...\n",
      " |  \n",
      " |  Methods defined here:\n",
      " |  \n",
      " |  __getattribute__(self, name, /)\n",
      " |      Return getattr(self, name).\n",
      " |  \n",
      " |  __iter__(self, /)\n",
      " |      Implement iter(self).\n",
      " |  \n",
      " |  __next__(self, /)\n",
      " |      Implement next(self).\n",
      " |  \n",
      " |  __reduce__(...)\n",
      " |      Return state information for pickling.\n",
      " |  \n",
      " |  ----------------------------------------------------------------------\n",
      " |  Static methods defined here:\n",
      " |  \n",
      " |  __new__(*args, **kwargs) from builtins.type\n",
      " |      Create and return a new object.  See help(type) for accurate signature.\n",
      "\n"
     ]
    }
   ],
   "source": [
    "help(enumerate)"
   ]
  },
  {
   "cell_type": "code",
   "execution_count": null,
   "metadata": {},
   "outputs": [],
   "source": []
  },
  {
   "cell_type": "markdown",
   "metadata": {},
   "source": [
    "### list comprehension\n",
    "\n",
    "Remember the following:\n",
    "- List comprehension generates a list. \n",
    "- Syntax: 2 or 3 parts:\n",
    "    - expression\n",
    "    - source of data (iterable)\n",
    "    - condition (optional)\n",
    "- Usage: Generates a new list by applying set of operations on each element of given list \n",
    "- Note: Any list comprehension can be broken down into `for loops`, but usually not the vice versa\n",
    "- <u>Beginners trying to understand the syntax of list comprehensions can follow the below approach</u>:\n",
    "    - Create the new list using **for** loop and **append**\n",
    "    - Convert your code back to list comprehension(all remains but the `append`)\n",
    "\n",
    "_Let's jump into examples_\n",
    "\n",
    "### Typical syntax for creating a new list  from an old list :"
   ]
  },
  {
   "cell_type": "raw",
   "metadata": {},
   "source": [
    "# Don't execute this code \n",
    "newlst = [] #Step 0\n",
    "for EACHITEM in oldlst: #Step 1\n",
    "    if condition_is_satisfied_on(EACHITEM): #Step 2\n",
    "        newlst.append(EACHITEM) #Step 3"
   ]
  },
  {
   "cell_type": "markdown",
   "metadata": {},
   "source": [
    "### Tackling the above via list comprehension"
   ]
  },
  {
   "cell_type": "raw",
   "metadata": {},
   "source": [
    "Step 0 = [Part of Step 3 -> Step 1 -> Step 2 ]\n",
    "newlst = [EACHITEM for EACHITEM in oldlst if condition_is_satisfied_on(EACHITEM)]\n",
    "\n",
    "# At times we need to account for both if and else clause. The syntax is a liitle different:\n",
    "newlst = [inner if condition_is_satisfied_on(inner) else inner*1 for outer in OUTERLOOP for inner in outer ]"
   ]
  },
  {
   "cell_type": "markdown",
   "metadata": {},
   "source": [
    "### What about nested loops\n",
    "- Nothing's special\n",
    "- **Only remember that the sequence of `for` loops remains same**"
   ]
  },
  {
   "cell_type": "raw",
   "metadata": {},
   "source": [
    "# Regular nested loop\n",
    "newlst = []\n",
    "for outer in OUTERLOOP:\n",
    "    for inner in outer:\n",
    "        if condition_is_satisfied_on(inner)\n",
    "            newlst.append(inner)\n",
    "        \n",
    "# Via comprehension\n",
    "newlst = [inner for outer in OUTERLOOP for inner in outer if condition_is_satisfied_on(inner)]"
   ]
  },
  {
   "cell_type": "markdown",
   "metadata": {},
   "source": [
    "### Examples"
   ]
  },
  {
   "cell_type": "code",
   "execution_count": 1,
   "metadata": {},
   "outputs": [
    {
     "name": "stdout",
     "output_type": "stream",
     "text": [
      "[0, 2, 4, 6, 8]\n"
     ]
    }
   ],
   "source": [
    "# create a list of even numbers between 0 and 9:\n",
    "newlst = [num for num in range(10) if num % 2 ==0]\n",
    "print(newlst)"
   ]
  },
  {
   "cell_type": "code",
   "execution_count": 13,
   "metadata": {},
   "outputs": [
    {
     "data": {
      "text/plain": [
       "[(6, 2), (4, 8), (6, 2), (1, 3), (2, 7), (2, 7)]"
      ]
     },
     "execution_count": 13,
     "metadata": {},
     "output_type": "execute_result"
    }
   ],
   "source": [
    "# For each number in list below (s_list), get the number and its position in mylist as a list of tuples.\n",
    "mylist = [9, 3, 6, 1, 5, 0, 8, 2, 4, 7]\n",
    "s_list = [6, 4, 6, 1, 2, 2]\n",
    "[(num,mylist.index(num)) for num in s_list ]"
   ]
  },
  {
   "cell_type": "code",
   "execution_count": 16,
   "metadata": {},
   "outputs": [
    {
     "data": {
      "text/plain": [
       "{6: 2, 4: 8, 1: 3, 2: 7}"
      ]
     },
     "execution_count": 16,
     "metadata": {},
     "output_type": "execute_result"
    }
   ],
   "source": [
    "# For each number in list below (s_list), get the number and its position in mylist as a dict.\n",
    "\n",
    "{num:mylist.index(num) for num in s_list }"
   ]
  },
  {
   "cell_type": "raw",
   "metadata": {},
   "source": [
    "# Given a 1D list, negate all elements which are between 3 and 8, using list comprehensions\n",
    "# Input\n",
    "mylist = [1, 2, 3, 4, 5, 6, 7, 8, 9, 10]\n",
    "\n",
    "# Desired Output\n",
    "[1, 2, -3, -4, -5, -6, -7, -8, 9, 10]"
   ]
  },
  {
   "cell_type": "code",
   "execution_count": 6,
   "metadata": {},
   "outputs": [
    {
     "data": {
      "text/plain": [
       "[1, 2, -3, -4, -5, -6, -7, -8, 9, 10]"
      ]
     },
     "execution_count": 6,
     "metadata": {},
     "output_type": "execute_result"
    }
   ],
   "source": [
    "mylist = [1, 2, 3, 4, 5, 6, 7, 8, 9, 10]\n",
    "[-val if 3<=val<=8 else val for val in mylist  ]"
   ]
  },
  {
   "cell_type": "code",
   "execution_count": 7,
   "metadata": {},
   "outputs": [
    {
     "data": {
      "text/plain": [
       "[1, 4, 27, 16, 125, 36, 343, 64, 729, 100]"
      ]
     },
     "execution_count": 7,
     "metadata": {},
     "output_type": "execute_result"
    }
   ],
   "source": [
    "# In mylist, square the number if its even, else, cube it.\n",
    "[ val**2 if val%2==0 else val**3 for val in mylist]\n"
   ]
  },
  {
   "cell_type": "code",
   "execution_count": 9,
   "metadata": {},
   "outputs": [
    {
     "data": {
      "text/plain": [
       "[11, 12, 13, 14, 15, 16, 17, 18, 19, 120, 21, 22, 23, 24, 25, 26]"
      ]
     },
     "execution_count": 9,
     "metadata": {},
     "output_type": "execute_result"
    }
   ],
   "source": [
    "# Flatten the matrix(a list of lists) keeping only the even numbers.\n",
    "sample = [[11,12,13,14], [15,16,17,18], [19,120,21,22], [23,24,25,26]]\n",
    "[element for lst in sample for element in lst]"
   ]
  },
  {
   "cell_type": "code",
   "execution_count": 10,
   "metadata": {},
   "outputs": [
    {
     "data": {
      "text/plain": [
       "[11, 13, 15, 17, 19, 21, 23, 25]"
      ]
     },
     "execution_count": 10,
     "metadata": {},
     "output_type": "execute_result"
    }
   ],
   "source": [
    "# Keep only odd nos from the above\n",
    "[element for lst in sample for element in lst if element%2 !=0]"
   ]
  },
  {
   "cell_type": "code",
   "execution_count": 54,
   "metadata": {},
   "outputs": [
    {
     "name": "stdout",
     "output_type": "stream",
     "text": [
      "Via for loop [['new', 'world', 'record', 'was', 'set'], ['holy', 'city', 'ayodhya'], ['eve', 'diwali', 'tuesday'], ['over', 'three', 'lakh', 'diya', 'or', 'earthen', 'lamps'], ['lit', 'up', 'simultaneously', 'banks', 'sarayu', 'river']]\n",
      "\n",
      "Via List comprehension: [['new', 'world', 'record', 'was', 'set'], ['holy', 'city', 'ayodhya'], ['eve', 'diwali', 'tuesday'], ['over', 'three', 'lakh', 'diya', 'or', 'earthen', 'lamps'], ['lit', 'up', 'simultaneously', 'banks', 'sarayu', 'river']]\n"
     ]
    }
   ],
   "source": [
    "# The goal is to tokenize the following 5 sentences into words, excluding the stop words.\n",
    "sentences = [\"a new world record was set\", \n",
    "             \"in the holy city of ayodhya\", \n",
    "             \"on the eve of diwali on tuesday\", \n",
    "             \"with over three lakh diya or earthen lamps\", \n",
    "             \"lit up simultaneously on the banks of the sarayu river\"]\n",
    "\n",
    "stopwords = ['for', 'a', 'of', 'the', 'and', 'to', 'in', 'on', 'with']\n",
    "\n",
    "# for loop approach\n",
    "\n",
    "newlst=[]\n",
    "for line in sentences:\n",
    "    tlst=[]\n",
    "    for word in (line.split()):\n",
    "        if word not in stopwords:\n",
    "            tlst.append(word)\n",
    "    newlst.append(tlst)    \n",
    "\n",
    "print(\"Via for loop\",newlst)  \n",
    "\n",
    "# list comprehension approach\n",
    "print(\"\\nVia List comprehension:\",[[word for word in (line.split()) if word not in stopwords] for line in sentences])\n"
   ]
  },
  {
   "cell_type": "code",
   "execution_count": null,
   "metadata": {},
   "outputs": [],
   "source": [
    "# Make a dictionary of the 26 english alphabets mapping each with the corresponding integer.\n",
    "\n",
    "# Desired output\n",
    "{'a': 1, 'b': 2, 'c': 3, 'd': 4, 'e': 5, 'f': 6,\n",
    " 'g': 7, 'h': 8, 'i': 9, 'j': 10, 'k': 11, 'l': 12,\n",
    " 'm': 13, 'n': 14, 'o': 15, 'p': 16, 'q': 17, 'r': 18,\n",
    " 's': 19, 't': 20, 'u': 21, 'v': 22, 'w': 23, 'x': 24,\n",
    " 'y': 25, 'z': 26}"
   ]
  },
  {
   "cell_type": "code",
   "execution_count": 3,
   "metadata": {},
   "outputs": [
    {
     "data": {
      "text/plain": [
       "{'a': 1,\n",
       " 'b': 2,\n",
       " 'c': 3,\n",
       " 'd': 4,\n",
       " 'e': 5,\n",
       " 'f': 6,\n",
       " 'g': 7,\n",
       " 'h': 8,\n",
       " 'i': 9,\n",
       " 'j': 10,\n",
       " 'k': 11,\n",
       " 'l': 12,\n",
       " 'm': 13,\n",
       " 'n': 14,\n",
       " 'o': 15,\n",
       " 'p': 16,\n",
       " 'q': 17,\n",
       " 'r': 18,\n",
       " 's': 19,\n",
       " 't': 20,\n",
       " 'u': 21,\n",
       " 'v': 22,\n",
       " 'w': 23,\n",
       " 'x': 24,\n",
       " 'y': 25,\n",
       " 'z': 26}"
      ]
     },
     "execution_count": 3,
     "metadata": {},
     "output_type": "execute_result"
    }
   ],
   "source": [
    "import string\n",
    "{ltr:idx for idx, ltr in enumerate(string.ascii_lowercase,start=1)}"
   ]
  },
  {
   "cell_type": "code",
   "execution_count": null,
   "metadata": {},
   "outputs": [],
   "source": [
    "# Replace all alphabets in the string ‘Lee Quan Yew’, by substituting the alphabet with the corresponding numbers, like 1 for ‘a’, 2 for ‘b’ and so on.\n",
    "#Desired Output:\n",
    "\n",
    "[12, 5, 5, ' ', 17, 21, 1, 14, ' ', 25, 5, 23]"
   ]
  },
  {
   "cell_type": "code",
   "execution_count": 12,
   "metadata": {},
   "outputs": [
    {
     "name": "stdout",
     "output_type": "stream",
     "text": [
      "Option 1: [12, 5, 5, ' ', 17, 21, 1, 14, ' ', 25, 5, 23]\n",
      "Option 2: [12, 5, 5, ' ', 17, 21, 1, 14, ' ', 25, 5, 23]\n"
     ]
    }
   ],
   "source": [
    "import string\n",
    "dct = {ltr:idx for idx, ltr in enumerate(string.ascii_lowercase,start=1)}\n",
    "\n",
    "print(\"Option 1:\",[dct[element] if element in dct else element for element in \"Lee Quan Yew\".lower() ])\n",
    "print(\"Option 2:\",[dct.get(element,' ') for element in  \"Lee Quan Yew\".lower()])\n"
   ]
  },
  {
   "cell_type": "code",
   "execution_count": 25,
   "metadata": {},
   "outputs": [
    {
     "data": {
      "text/plain": [
       "{'face',\n",
       " 'formation',\n",
       " 'galaxies',\n",
       " 'has',\n",
       " 'hubble',\n",
       " 'resembles',\n",
       " 'sky',\n",
       " 'smiling',\n",
       " 'space',\n",
       " 'spotted',\n",
       " 'telescope',\n",
       " 'that',\n",
       " 'the'}"
      ]
     },
     "execution_count": 25,
     "metadata": {},
     "output_type": "execute_result"
    }
   ],
   "source": [
    "# Get the unique list of words from the following sentences, excluding any stopwords\n",
    "sentences = [\"The Hubble Space Telescope has spotted\", \n",
    "             \"a formation of galaxies that resembles\", \n",
    "             \"a smiling face in the sky\"]\n",
    "\n",
    "stopwords = ['for', 'a', 'of', 'the', 'and', 'to', 'in', 'on', 'with']\n",
    "\n",
    "# Desired output:\n",
    "{'face', 'formation', 'galaxies', 'has', 'hubble', 'resembles',\n",
    " 'sky', 'smiling', 'space', 'spotted', 'telescope', 'that', 'the'}"
   ]
  },
  {
   "cell_type": "code",
   "execution_count": 27,
   "metadata": {},
   "outputs": [
    {
     "data": {
      "text/plain": [
       "{'face',\n",
       " 'formation',\n",
       " 'galaxies',\n",
       " 'has',\n",
       " 'hubble',\n",
       " 'resembles',\n",
       " 'sky',\n",
       " 'smiling',\n",
       " 'space',\n",
       " 'spotted',\n",
       " 'telescope',\n",
       " 'that'}"
      ]
     },
     "execution_count": 27,
     "metadata": {},
     "output_type": "execute_result"
    }
   ],
   "source": [
    "set(sorted([word.lower() for line in sentences for word in line.split() if word.lower() not in stopwords]))"
   ]
  },
  {
   "cell_type": "code",
   "execution_count": 35,
   "metadata": {},
   "outputs": [
    {
     "name": "stdout",
     "output_type": "stream",
     "text": [
      "Option 1: [['hubble', 'space', 'telescope', 'has', 'spotted'], ['formation', 'galaxies', 'that', 'resembles'], ['smiling', 'face', 'sky'], ['image', 'taken', 'wide', 'field', 'camera'], ['shows', 'patch', 'space', 'filled', 'galaxies'], ['all', 'shapes,', 'colours', 'sizes']]\n",
      "\n",
      "Option 2: [['hubble', 'space', 'telescope', 'has', 'spotted'], ['formation', 'galaxies', 'that', 'resembles'], ['smiling', 'face', 'sky'], ['image', 'taken', 'wide', 'field', 'camera'], ['shows', 'patch', 'space', 'filled', 'galaxies'], ['all', 'shapes,', 'colours', 'sizes']]\n"
     ]
    }
   ],
   "source": [
    "# Tokenize the following sentences excluding all stopwords and punctuations.\n",
    "sentences = [\"The Hubble Space telescope has spotted\", \n",
    "             \"a formation of galaxies that resembles\", \n",
    "             \"a smiling face in the sky\", \n",
    "             \"The image taken with the Wide Field Camera\", \n",
    "             \"shows a patch of space filled with galaxies\", \n",
    "             \"of all shapes, colours and sizes\"]\n",
    "\n",
    "stopwords = ['for', 'a', 'of', 'the', 'and', 'to', 'in', 'on', 'with']\n",
    "\n",
    "# Option 1: Via regular loop\n",
    "newlst=[]\n",
    "for line in sentences:\n",
    "    tlst=[]\n",
    "    for word in line.split():\n",
    "        if word.lower() not in stopwords:\n",
    "            tlst.append(word.lower())\n",
    "    newlst.append(tlst)\n",
    "    \n",
    "    \n",
    "print(\"Option 1:\",newlst)    \n",
    "\n",
    "print(\"\\nOption 2:\",[[word.lower() for word in line.split() if word.lower() not in stopwords] for line in sentences])"
   ]
  },
  {
   "cell_type": "code",
   "execution_count": null,
   "metadata": {},
   "outputs": [],
   "source": []
  },
  {
   "cell_type": "code",
   "execution_count": 36,
   "metadata": {},
   "outputs": [],
   "source": [
    "# Create a list of (word:id) pairs for all words in the following sentences, where id is the sentence index.\n",
    "\n",
    "# Input\n",
    "sentences = [\"The Hubble Space telescope has spotted\", \n",
    "             \"a formation of galaxies that resembles\", \n",
    "             \"a smiling face in the sky\"]\n",
    "\n",
    "# Desired output:\n",
    "[('the', 0), ('hubble', 0), ('space', 0), ('telescope', 0), ('has', 0), ('spotted', 0),\n",
    " ('a', 1), ('formation', 1), ('of', 1), ('galaxies', 1), ('that', 1), ('resembles', 1),\n",
    " ('a', 2), ('smiling', 2), ('face', 2), ('in', 2), ('the', 2), ('sky', 2)]\n"
   ]
  },
  {
   "cell_type": "code",
   "execution_count": 37,
   "metadata": {},
   "outputs": [
    {
     "data": {
      "text/plain": [
       "[('the', 0),\n",
       " ('hubble', 0),\n",
       " ('space', 0),\n",
       " ('telescope', 0),\n",
       " ('has', 0),\n",
       " ('spotted', 0),\n",
       " ('a', 1),\n",
       " ('formation', 1),\n",
       " ('of', 1),\n",
       " ('galaxies', 1),\n",
       " ('that', 1),\n",
       " ('resembles', 1),\n",
       " ('a', 2),\n",
       " ('smiling', 2),\n",
       " ('face', 2),\n",
       " ('in', 2),\n",
       " ('the', 2),\n",
       " ('sky', 2)]"
      ]
     },
     "execution_count": 37,
     "metadata": {},
     "output_type": "execute_result"
    }
   ],
   "source": [
    "[(word.lower(),idx) for idx,line in enumerate(sentences) for word in line.split()]"
   ]
  },
  {
   "cell_type": "code",
   "execution_count": null,
   "metadata": {},
   "outputs": [],
   "source": []
  },
  {
   "cell_type": "code",
   "execution_count": null,
   "metadata": {},
   "outputs": [],
   "source": []
  },
  {
   "cell_type": "code",
   "execution_count": null,
   "metadata": {},
   "outputs": [],
   "source": []
  }
 ],
 "metadata": {
  "kernelspec": {
   "display_name": "Python 3",
   "language": "python",
   "name": "python3"
  },
  "language_info": {
   "codemirror_mode": {
    "name": "ipython",
    "version": 3
   },
   "file_extension": ".py",
   "mimetype": "text/x-python",
   "name": "python",
   "nbconvert_exporter": "python",
   "pygments_lexer": "ipython3",
   "version": "3.7.7"
  }
 },
 "nbformat": 4,
 "nbformat_minor": 4
}
