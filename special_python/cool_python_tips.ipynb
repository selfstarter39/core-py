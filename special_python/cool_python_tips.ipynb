{
 "cells": [
  {
   "cell_type": "markdown",
   "metadata": {},
   "source": [
    "### enumerate()\n",
    "- `Want a free counter for your iterator? Use enumerate()`\n",
    "- A lot of times while looping over an iterator we realize the need of a counter.\n",
    "- In such situations, a common workaround which one does is using a range function. This semingly appears to be an overcomplication of the given situation.\n",
    "- Python's built-in **enumerate()** methods seems to be the perfect fit for such cases. \n",
    "\n",
    "_Let's see an example_\n"
   ]
  },
  {
   "cell_type": "code",
   "execution_count": 1,
   "metadata": {},
   "outputs": [],
   "source": [
    "\"\"\"\n",
    "* Say we have a situation where we have generated the list of students sorted by the marks obtained \n",
    "in descending order.\n",
    "* We want to display the names of the students along with their rank \n",
    "(as students as arranged from highest->lowest marks, it is implied that the student at index 0 came 1st,\n",
    "student at index 1 came 2nd and so on )\n",
    "\n",
    "\"\"\"\n",
    "lst = [\"StudA\",\"StudB\",\"StudC\",\"StudD\",\"StudE\",]"
   ]
  },
  {
   "cell_type": "code",
   "execution_count": 3,
   "metadata": {},
   "outputs": [
    {
     "name": "stdout",
     "output_type": "stream",
     "text": [
      "StudA has secured position 1 in the class\n",
      "StudB has secured position 2 in the class\n",
      "StudC has secured position 3 in the class\n",
      "StudD has secured position 4 in the class\n",
      "StudE has secured position 5 in the class\n"
     ]
    }
   ],
   "source": [
    "# Approach 1: via range()\n",
    "for stud in range(len(lst)):\n",
    "    print(f\"{lst[stud]} has secured position {stud+1} in the class\")"
   ]
  },
  {
   "cell_type": "markdown",
   "metadata": {},
   "source": [
    "The above code is clumsy for the following reasons:\n",
    "- I have to get the length of the list\n",
    "- I have to run range() over the length of the list to get the index\n",
    "- I have to increment the range val by 1 and grab list[index] at every iteration\n",
    "\n",
    "**enumerate() addresses this situation in a pythonic way**."
   ]
  },
  {
   "cell_type": "code",
   "execution_count": 4,
   "metadata": {},
   "outputs": [
    {
     "name": "stdout",
     "output_type": "stream",
     "text": [
      "StudA has secured position 1 in the class\n",
      "StudB has secured position 2 in the class\n",
      "StudC has secured position 3 in the class\n",
      "StudD has secured position 4 in the class\n",
      "StudE has secured position 5 in the class\n"
     ]
    }
   ],
   "source": [
    "for idx, stud in enumerate(lst,start=1):\n",
    "    print(f\"{stud} has secured position {idx} in the class\")\n",
    "    "
   ]
  },
  {
   "cell_type": "markdown",
   "metadata": {},
   "source": [
    "**What's happening here?**\n",
    "- enumerate() wraps any iterator with a generator\n",
    "- It then yields a pair of loop index, and the next value from the given iterator\n",
    "- enumerate() returns an enumerate object\n",
    "- enumerate() starts from 0 (default), but can be take start=any integer value as the beginning of the index"
   ]
  },
  {
   "cell_type": "code",
   "execution_count": 6,
   "metadata": {},
   "outputs": [
    {
     "data": {
      "text/plain": [
       "<enumerate at 0x1092dc0a0>"
      ]
     },
     "execution_count": 6,
     "metadata": {},
     "output_type": "execute_result"
    }
   ],
   "source": [
    "# enumerate returns an enumerate object\n",
    "enumerate([\"a\",\"b\",\"c\",\"d\"])"
   ]
  },
  {
   "cell_type": "code",
   "execution_count": 7,
   "metadata": {},
   "outputs": [
    {
     "data": {
      "text/plain": [
       "[(0, 'a'), (1, 'b'), (2, 'c'), (3, 'd')]"
      ]
     },
     "execution_count": 7,
     "metadata": {},
     "output_type": "execute_result"
    }
   ],
   "source": [
    "# each element is a tuple that with the index and the original item value\n",
    "list(enumerate([\"a\",\"b\",\"c\",\"d\"]))"
   ]
  },
  {
   "cell_type": "code",
   "execution_count": 8,
   "metadata": {},
   "outputs": [
    {
     "name": "stdout",
     "output_type": "stream",
     "text": [
      "0 a\n",
      "1 b\n",
      "2 c\n",
      "3 d\n"
     ]
    }
   ],
   "source": [
    "for i,j in list(enumerate([\"a\",\"b\",\"c\",\"d\"])):\n",
    "    print(i,j)"
   ]
  },
  {
   "cell_type": "code",
   "execution_count": null,
   "metadata": {},
   "outputs": [],
   "source": []
  },
  {
   "cell_type": "code",
   "execution_count": 5,
   "metadata": {},
   "outputs": [
    {
     "name": "stdout",
     "output_type": "stream",
     "text": [
      "Help on class enumerate in module builtins:\n",
      "\n",
      "class enumerate(object)\n",
      " |  enumerate(iterable, start=0)\n",
      " |  \n",
      " |  Return an enumerate object.\n",
      " |  \n",
      " |    iterable\n",
      " |      an object supporting iteration\n",
      " |  \n",
      " |  The enumerate object yields pairs containing a count (from start, which\n",
      " |  defaults to zero) and a value yielded by the iterable argument.\n",
      " |  \n",
      " |  enumerate is useful for obtaining an indexed list:\n",
      " |      (0, seq[0]), (1, seq[1]), (2, seq[2]), ...\n",
      " |  \n",
      " |  Methods defined here:\n",
      " |  \n",
      " |  __getattribute__(self, name, /)\n",
      " |      Return getattr(self, name).\n",
      " |  \n",
      " |  __iter__(self, /)\n",
      " |      Implement iter(self).\n",
      " |  \n",
      " |  __next__(self, /)\n",
      " |      Implement next(self).\n",
      " |  \n",
      " |  __reduce__(...)\n",
      " |      Return state information for pickling.\n",
      " |  \n",
      " |  ----------------------------------------------------------------------\n",
      " |  Static methods defined here:\n",
      " |  \n",
      " |  __new__(*args, **kwargs) from builtins.type\n",
      " |      Create and return a new object.  See help(type) for accurate signature.\n",
      "\n"
     ]
    }
   ],
   "source": [
    "help(enumerate)"
   ]
  },
  {
   "cell_type": "code",
   "execution_count": null,
   "metadata": {},
   "outputs": [],
   "source": []
  },
  {
   "cell_type": "code",
   "execution_count": null,
   "metadata": {},
   "outputs": [],
   "source": []
  },
  {
   "cell_type": "code",
   "execution_count": null,
   "metadata": {},
   "outputs": [],
   "source": []
  },
  {
   "cell_type": "code",
   "execution_count": null,
   "metadata": {},
   "outputs": [],
   "source": []
  },
  {
   "cell_type": "code",
   "execution_count": null,
   "metadata": {},
   "outputs": [],
   "source": []
  },
  {
   "cell_type": "code",
   "execution_count": null,
   "metadata": {},
   "outputs": [],
   "source": []
  },
  {
   "cell_type": "code",
   "execution_count": null,
   "metadata": {},
   "outputs": [],
   "source": []
  },
  {
   "cell_type": "code",
   "execution_count": null,
   "metadata": {},
   "outputs": [],
   "source": []
  },
  {
   "cell_type": "code",
   "execution_count": null,
   "metadata": {},
   "outputs": [],
   "source": []
  }
 ],
 "metadata": {
  "kernelspec": {
   "display_name": "Python 3",
   "language": "python",
   "name": "python3"
  },
  "language_info": {
   "codemirror_mode": {
    "name": "ipython",
    "version": 3
   },
   "file_extension": ".py",
   "mimetype": "text/x-python",
   "name": "python",
   "nbconvert_exporter": "python",
   "pygments_lexer": "ipython3",
   "version": "3.7.7"
  }
 },
 "nbformat": 4,
 "nbformat_minor": 4
}
