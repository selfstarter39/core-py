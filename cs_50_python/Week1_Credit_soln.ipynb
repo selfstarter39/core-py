{
 "cells": [
  {
   "cell_type": "markdown",
   "metadata": {},
   "source": [
    "### Cash\n",
    "\n",
    "Please check:https://cs50.harvard.edu/x/2020/psets/1/credit/\n",
    "\n",
    "\n",
    "**Points to note**:\n",
    "- Write a program that prompts the user for a credit card number and then reports whether it is a valid American Express, MasterCard, or Visa card number, per the definitions of each’s format herein. \n",
    "- So that we can automate some tests of your code, we ask that your program’s last line of output be AMEX\\n or MASTERCARD\\n or VISA\\n or INVALID\\n, nothing more, nothing less. \n",
    "- For simplicity, you may assume that the user’s input will be entirely numeric (i.e., devoid of hyphens, as might be printed on an actual card).\n",
    "- Necessary error handling is expected\n",
    "- American Express uses 15-digit numbers, MasterCard uses 16-digit numbers, and Visa uses 13- and 16-digit numbers. And those are decimal numbers (0 through 9), not binary.\n",
    "- All American Express numbers start with 34 or 37; most MasterCard numbers start with 51, 52, 53, 54, or 55 (they also have some other potential starting numbers which we won’t concern ourselves with for this problem); and all Visa numbers start with 4. "
   ]
  },
  {
   "cell_type": "code",
   "execution_count": null,
   "metadata": {},
   "outputs": [],
   "source": []
  },
  {
   "cell_type": "code",
   "execution_count": 16,
   "metadata": {},
   "outputs": [],
   "source": [
    "class Credit:\n",
    "    def __init__(self,cm):\n",
    "        self.__cm = cm\n",
    "        self.__vlen = [13,15,16]\n",
    "        self.__dct = {\"Amex\":[\"34\",\"37\"],\n",
    "                    \"MasterCard\":[\"51\", \"52\", \"53\", \"54\",\"55\"],\n",
    "                    \"Visa\":[\"4\"]                   \n",
    "                   }\n",
    "        self.__cmp = \"\"\n",
    "        #print(self.cm)\n",
    "        \n",
    "        \n",
    "    def chk_valid(self):\n",
    "        # check for valid length and validity of 1st 2 digits\n",
    "        try:\n",
    "            if (len(str(self.__cm)) in self.__vlen):\n",
    "                #print(\"Initial validation success\")\n",
    "                cmpstr = str(self.__cm)[0:2]\n",
    "                cmpstr1 = str(self.__cm)[0:1]\n",
    "                #print(cmpstr,cmpstr1)\n",
    "                self.__cmp = [k for k,v in self.__dct.items() if cmpstr in v  or cmpstr1 in v][0]\n",
    "                #print(self.cmp)\n",
    "                \"\"\"\n",
    "                for k,v in self.dct.items():\n",
    "                    if cmpstr in v:\n",
    "                        print(k)\n",
    "                    \n",
    "                    elif cmpstr1 in v:\n",
    "                        print(k)\n",
    "                    \n",
    "                    print(self.cmp)\n",
    "                \"\"\"    \n",
    "                #return (self.cmp + \"\\n\")\n",
    "                print(\"Moving to next block\")\n",
    "                \n",
    "            else:\n",
    "                raise ValueError\n",
    "                \n",
    "        except IndexError or ValueError:\n",
    "            return(\"INVALID\"+\"\\n\") \n"
   ]
  },
  {
   "cell_type": "code",
   "execution_count": 17,
   "metadata": {},
   "outputs": [
    {
     "name": "stdout",
     "output_type": "stream",
     "text": [
      "Number: 4003600000000014\n",
      "Initial validation success\n",
      "40 4\n",
      "Moving to next block\n",
      "None\n"
     ]
    }
   ],
   "source": [
    "# Validation of input as given in question\n",
    "if __name__==\"__main__\":\n",
    "    while True:\n",
    "        try:\n",
    "            cm = int(input(\"Number: \"))\n",
    "            if cm < 0:\n",
    "                raise ValueError\n",
    "            break\n",
    "        except ValueError:  # handle error if user enters float()\n",
    "            continue       \n",
    "cmObj = Credit(cm)\n",
    "print(cmObj.chk_valid())"
   ]
  },
  {
   "cell_type": "code",
   "execution_count": null,
   "metadata": {},
   "outputs": [],
   "source": []
  },
  {
   "cell_type": "code",
   "execution_count": null,
   "metadata": {},
   "outputs": [],
   "source": []
  },
  {
   "cell_type": "code",
   "execution_count": null,
   "metadata": {},
   "outputs": [],
   "source": []
  },
  {
   "cell_type": "code",
   "execution_count": null,
   "metadata": {},
   "outputs": [],
   "source": []
  },
  {
   "cell_type": "code",
   "execution_count": null,
   "metadata": {},
   "outputs": [],
   "source": []
  },
  {
   "cell_type": "code",
   "execution_count": null,
   "metadata": {},
   "outputs": [],
   "source": []
  },
  {
   "cell_type": "code",
   "execution_count": null,
   "metadata": {},
   "outputs": [],
   "source": []
  }
 ],
 "metadata": {
  "kernelspec": {
   "display_name": "Python 3",
   "language": "python",
   "name": "python3"
  },
  "language_info": {
   "codemirror_mode": {
    "name": "ipython",
    "version": 3
   },
   "file_extension": ".py",
   "mimetype": "text/x-python",
   "name": "python",
   "nbconvert_exporter": "python",
   "pygments_lexer": "ipython3",
   "version": "3.7.7"
  }
 },
 "nbformat": 4,
 "nbformat_minor": 4
}
