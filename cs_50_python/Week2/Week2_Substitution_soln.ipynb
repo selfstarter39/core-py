{
 "cells": [
  {
   "cell_type": "markdown",
   "metadata": {},
   "source": [
    "### Substitution\n",
    "\n",
    "Pls refer to the following link: https://cs50.harvard.edu/x/2020/psets/2/substitution/\n",
    "\n",
    "**Note**: As we are not able to pass cmd line args via jupyter notebook, I have accepted the key and text as inputs. (you can try on any regular python ide via sys.argv\n",
    "\n",
    "**Extra**:\n",
    "Check if the key is invalid (as by not containing 26 characters, containing any character that is not an alphabetic character, or not containing each letter exactly once)."
   ]
  },
  {
   "cell_type": "markdown",
   "metadata": {},
   "source": [
    "#### Solution"
   ]
  },
  {
   "cell_type": "code",
   "execution_count": 9,
   "metadata": {},
   "outputs": [],
   "source": [
    "import string\n",
    "class Substitution:\n",
    "    def __init__(self,txt,key):\n",
    "        self.txt = txt\n",
    "        self.key = key\n",
    "        \n",
    "    def sub_encrpyt(self):\n",
    "        \"\"\"\n",
    "        Approach:\n",
    "        * 2 dcts to hold mapping letters and key-elements\n",
    "            - lowercase ltrs:index (e.g. {\"a\":\"c\",\"b\",\"d\"...})\n",
    "            - uppercase ltrs:index (e.g. {\"A\":\"C\",\"B\",\"D\"...})\n",
    "            \n",
    "        * Map each ltr of text to key as per dct\n",
    "        * Generate new text\n",
    "        \"\"\"\n",
    "        # 2 dcts to hold mapping ltsr and indices\n",
    "        dct_lw_idx = {}\n",
    "        dct_up_idx = {}\n",
    "        cnt = 0\n",
    "        nstr=\"\"\n",
    "        \n",
    "        for ltr in self.key:\n",
    "            dct_lw_idx[string.ascii_lowercase[cnt]] = ltr.lower() # mapping letters to key-elements\n",
    "            cnt+=1\n",
    "            \n",
    "        cnt=0\n",
    "        for ltr in self.key:\n",
    "            dct_up_idx[string.ascii_uppercase[cnt]] = ltr.upper()\n",
    "            cnt+=1            \n",
    "\n",
    "        #print(dct_lw_idx)\n",
    "        #print(dct_up_idx)\n",
    "        \n",
    "        \n",
    "        for ltr in self.txt:\n",
    "            if ltr in dct_lw_idx:\n",
    "                nstr = nstr + dct_lw_idx[ltr]\n",
    "            elif ltr in dct_up_idx:  \n",
    "                nstr = nstr + dct_up_idx[ltr]\n",
    "            else:\n",
    "                nstr = nstr + ltr\n",
    "                \n",
    "        return (\"ciphertext: \" + nstr + \"\\n\")        "
   ]
  },
  {
   "cell_type": "code",
   "execution_count": 21,
   "metadata": {},
   "outputs": [
    {
     "name": "stdout",
     "output_type": "stream",
     "text": [
      "key: VcHpRzGjNtLsKfBdQwAxEuYmOi\n",
      "plaintext: hello\n",
      "ciphertext: jrssb\n"
     ]
    }
   ],
   "source": [
    "import re\n",
    "while True:\n",
    "    try:\n",
    "        key = input(\"key: \")\n",
    "        txt = input(\"plaintext: \")\n",
    "        mtc = re.search(r'[0-9]',key) # to handle any number within key\n",
    "        if mtc or (len(key)!=26) or (len(set(key))!=26):  # key check1\n",
    "            raise ValueError\n",
    "        \n",
    "        for element in key: # key check2\n",
    "            if  element in string.ascii_lowercase or element in string.ascii_uppercase:\n",
    "                pass\n",
    "            else:\n",
    "                raise ValueError\n",
    "                \n",
    "        if not txt:\n",
    "            raise ValueError\n",
    "        break    \n",
    "    except ValueError:\n",
    "        continue\n",
    "        \n",
    "csrobj = Substitution(txt,key) \n",
    "print(csrobj.sub_encrpyt())"
   ]
  },
  {
   "cell_type": "code",
   "execution_count": null,
   "metadata": {},
   "outputs": [],
   "source": []
  },
  {
   "cell_type": "code",
   "execution_count": null,
   "metadata": {},
   "outputs": [],
   "source": []
  },
  {
   "cell_type": "code",
   "execution_count": null,
   "metadata": {},
   "outputs": [],
   "source": []
  }
 ],
 "metadata": {
  "kernelspec": {
   "display_name": "Python 3",
   "language": "python",
   "name": "python3"
  },
  "language_info": {
   "codemirror_mode": {
    "name": "ipython",
    "version": 3
   },
   "file_extension": ".py",
   "mimetype": "text/x-python",
   "name": "python",
   "nbconvert_exporter": "python",
   "pygments_lexer": "ipython3",
   "version": "3.7.7"
  }
 },
 "nbformat": 4,
 "nbformat_minor": 4
}
