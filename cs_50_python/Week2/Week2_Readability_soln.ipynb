{
 "cells": [
  {
   "cell_type": "markdown",
   "metadata": {},
   "source": [
    "### Readability\n",
    "\n",
    "Plase refer to: https://cs50.harvard.edu/x/2020/psets/2/readability/\n",
    "\n",
    "- Design and implement a program that computes the `Coleman-Liau` index of the text.\n",
    "- Your program should count the number of letters, words, and sentences in the text. You may assume that a letter is any lowercase character from a to z or any uppercase character from A to Z, any sequence of characters separated by spaces should count as a word, and that any occurrence of a period, exclamation point, or question mark indicates the end of a sentence.\n",
    "- Your program should print as output `Grade X` where X is the grade level computed by the Coleman-Liau formula, rounded to the nearest integer.\n",
    "- If the resulting index number is 16 or higher (equivalent to or greater than a senior undergraduate reading level), your program should output `Grade 16+` instead of giving the exact index number. If the index number is less than 1, your program should output `Before Grade 1`.\n",
    "\n",
    "\n",
    "**The Coleman-Liau index of a text is designed to output what (U.S.) grade level is needed to understand the text. The formula is:**\n",
    ">index = 0.0588 * L - 0.296 * S - 15.8\n",
    "\n",
    "Here, `L` is the average number of letters per 100 words in the text, and `S` is the average number of sentences per 100 words in the text."
   ]
  },
  {
   "cell_type": "code",
   "execution_count": null,
   "metadata": {},
   "outputs": [],
   "source": []
  },
  {
   "cell_type": "code",
   "execution_count": 20,
   "metadata": {},
   "outputs": [],
   "source": [
    "import string\n",
    "import re\n",
    "class Readability:\n",
    "    def __init__(self,s):\n",
    "        self.s = s\n",
    "        #print(self.s)\n",
    "        \n",
    "    def calc_read_grade(self):\n",
    "        # counting number of letters\n",
    "        num_ltrs = 0\n",
    "        for i in self.s:\n",
    "            if i in string.ascii_lowercase or i in string.ascii_uppercase:\n",
    "                num_ltrs+=1\n",
    "        print(f\"{num_ltrs} letter(s)\")  \n",
    "        \n",
    "        # counting number of words\n",
    "        num_wrds = len(self.s.split(\" \"))\n",
    "        print(f\"{num_wrds} words(s)\") \n",
    "        \n",
    "        # counting number of words\n",
    "        num_snts = len(re.split('[\\!\\.\\?]', self.s))\n",
    "        num_snts-=1\n",
    "        print(f\"{num_snts} sentence(s)\")   \n",
    "                \n",
    "            \n",
    "        l = (num_ltrs/num_wrds) * 100\n",
    "        s = (num_snts/num_wrds) * 100\n",
    "        \n",
    "        idx = (0.0588 * l) - (0.296 * s) - 15.8\n",
    "        \n",
    "        print(round(idx))"
   ]
  },
  {
   "cell_type": "code",
   "execution_count": 22,
   "metadata": {},
   "outputs": [
    {
     "name": "stdout",
     "output_type": "stream",
     "text": [
      "It was a bright cold day in April, and the clocks were striking thirteen. Winston Smith, his chin nuzzled into his breast in an effort to escape the vile wind, slipped quickly through the glass doors of Victory Mansions, though not quickly enough to prevent a swirl of gritty dust from entering along with him.\n",
      "250 letter(s)\n",
      "55 words(s)\n",
      "2 sentence(s)\n"
     ]
    }
   ],
   "source": [
    "text = input()\n",
    "txt = Readability(text)\n",
    "txt.calc_read_grade()"
   ]
  },
  {
   "cell_type": "code",
   "execution_count": 23,
   "metadata": {},
   "outputs": [
    {
     "data": {
      "text/plain": [
       "464.28571428571433"
      ]
     },
     "execution_count": 23,
     "metadata": {},
     "output_type": "execute_result"
    }
   ],
   "source": [
    "(65/14)*100"
   ]
  },
  {
   "cell_type": "code",
   "execution_count": null,
   "metadata": {},
   "outputs": [],
   "source": []
  },
  {
   "cell_type": "code",
   "execution_count": null,
   "metadata": {},
   "outputs": [],
   "source": []
  },
  {
   "cell_type": "code",
   "execution_count": null,
   "metadata": {},
   "outputs": [],
   "source": []
  },
  {
   "cell_type": "code",
   "execution_count": null,
   "metadata": {},
   "outputs": [],
   "source": []
  },
  {
   "cell_type": "code",
   "execution_count": null,
   "metadata": {},
   "outputs": [],
   "source": []
  },
  {
   "cell_type": "code",
   "execution_count": null,
   "metadata": {},
   "outputs": [],
   "source": []
  },
  {
   "cell_type": "code",
   "execution_count": null,
   "metadata": {},
   "outputs": [],
   "source": []
  },
  {
   "cell_type": "code",
   "execution_count": null,
   "metadata": {},
   "outputs": [],
   "source": []
  },
  {
   "cell_type": "code",
   "execution_count": null,
   "metadata": {},
   "outputs": [],
   "source": []
  },
  {
   "cell_type": "code",
   "execution_count": null,
   "metadata": {},
   "outputs": [],
   "source": []
  },
  {
   "cell_type": "code",
   "execution_count": null,
   "metadata": {},
   "outputs": [],
   "source": []
  },
  {
   "cell_type": "code",
   "execution_count": null,
   "metadata": {},
   "outputs": [],
   "source": []
  },
  {
   "cell_type": "code",
   "execution_count": null,
   "metadata": {},
   "outputs": [],
   "source": []
  },
  {
   "cell_type": "code",
   "execution_count": null,
   "metadata": {},
   "outputs": [],
   "source": []
  },
  {
   "cell_type": "code",
   "execution_count": null,
   "metadata": {},
   "outputs": [],
   "source": []
  }
 ],
 "metadata": {
  "kernelspec": {
   "display_name": "Python 3",
   "language": "python",
   "name": "python3"
  },
  "language_info": {
   "codemirror_mode": {
    "name": "ipython",
    "version": 3
   },
   "file_extension": ".py",
   "mimetype": "text/x-python",
   "name": "python",
   "nbconvert_exporter": "python",
   "pygments_lexer": "ipython3",
   "version": "3.7.7"
  }
 },
 "nbformat": 4,
 "nbformat_minor": 4
}
