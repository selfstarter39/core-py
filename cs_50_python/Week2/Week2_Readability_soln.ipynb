{
 "cells": [
  {
   "cell_type": "markdown",
   "metadata": {},
   "source": [
    "### Readability\n",
    "\n",
    "Plase refer to: https://cs50.harvard.edu/x/2020/psets/2/readability/\n",
    "\n",
    "- Design and implement a program that computes the `Coleman-Liau` index of the text.\n",
    "- Your program should count the number of letters, words, and sentences in the text. You may assume that a letter is any lowercase character from a to z or any uppercase character from A to Z, any sequence of characters separated by spaces should count as a word, and that any occurrence of a period, exclamation point, or question mark indicates the end of a sentence.\n",
    "- Your program should print as output `Grade X` where X is the grade level computed by the Coleman-Liau formula, rounded to the nearest integer.\n",
    "- If the resulting index number is 16 or higher (equivalent to or greater than a senior undergraduate reading level), your program should output `Grade 16+` instead of giving the exact index number. If the index number is less than 1, your program should output `Before Grade 1`.\n",
    "\n",
    "\n",
    "**The Coleman-Liau index of a text is designed to output what (U.S.) grade level is needed to understand the text. The formula is:**\n",
    ">index = 0.0588 * L - 0.296 * S - 15.8\n",
    "\n",
    "Here, `L` is the average number of letters per 100 words in the text, and `S` is the average number of sentences per 100 words in the text."
   ]
  },
  {
   "cell_type": "markdown",
   "metadata": {},
   "source": [
    "#### Solution"
   ]
  },
  {
   "cell_type": "code",
   "execution_count": 43,
   "metadata": {},
   "outputs": [],
   "source": [
    "import string\n",
    "import re\n",
    "class Readability:\n",
    "    def __init__(self,s):\n",
    "        self.s = s\n",
    "        #print(self.s)\n",
    "        \n",
    "    def calc_read_grade(self):\n",
    "        # counting number of letters\n",
    "        num_ltrs = 0\n",
    "        for i in self.s:\n",
    "            if i in string.ascii_lowercase or i in string.ascii_uppercase:\n",
    "                num_ltrs+=1\n",
    "        #print(f\"{num_ltrs} letter(s)\")  \n",
    "        \n",
    "        # counting number of words\n",
    "        num_wrds = len(self.s.split(\" \"))\n",
    "        #print(f\"{num_wrds} words(s)\") \n",
    "        \n",
    "        # counting number of words\n",
    "        num_snts = len(re.split('[\\!\\.\\?]', self.s))\n",
    "        num_snts-=1\n",
    "        #print(f\"{num_snts} sentence(s)\")   \n",
    "                \n",
    "            \n",
    "        l = (num_ltrs/num_wrds) * 100\n",
    "        s = (num_snts/num_wrds) * 100\n",
    "        \n",
    "        idx = (0.0588 * l) - (0.296 * s) - 15.8\n",
    "        idx = round(idx)\n",
    "        \n",
    "        if idx <1:\n",
    "            return \"Before Grade 1\"\n",
    "        elif idx >=16:\n",
    "            return \"Grade 16+\"\n",
    "        else:\n",
    "            return (\"Grade\" + \" \"+ str(idx))\n",
    "        \n",
    "        \n",
    "        \n",
    "        return (round(idx))"
   ]
  },
  {
   "cell_type": "code",
   "execution_count": 44,
   "metadata": {},
   "outputs": [
    {
     "name": "stdout",
     "output_type": "stream",
     "text": [
      "Text: Alice was beginning to get very tired of sitting by her sister on the bank, and of having nothing to do: once or twice she had peeped into the book her sister was reading, but it had no pictures or conversations in it, \"and what is the use of a book,\" thought Alice \"without pictures or conversation?\n",
      "Grade 8\n"
     ]
    }
   ],
   "source": [
    "text = input(\"Text: \")\n",
    "txt = Readability(text)\n",
    "print(txt.calc_read_grade())"
   ]
  },
  {
   "cell_type": "markdown",
   "metadata": {},
   "source": [
    "#### Test strings to check the above module"
   ]
  },
  {
   "cell_type": "code",
   "execution_count": 45,
   "metadata": {},
   "outputs": [],
   "source": [
    "tst_str = [\"One fish. Two fish. Red fish. Blue fish.\",\n",
    "           \"Would you like them here or there? I would not like them here or there. I would not like them anywhere.\",\n",
    "           \"Congratulations! Today is your day. You're off to Great Places! You're off and away!\",\n",
    "           \"Harry Potter was a highly unusual boy in many ways. For one thing, he hated the summer holidays more than any other time of year. For another, he really wanted to do his homework, but was forced to do it in secret, in the dead of the night. And he also happened to be a wizard.\",\n",
    "           \"In my younger and more vulnerable years my father gave me some advice that I've been turning over in my mind ever since.\",\n",
    "           \"When he was nearly thirteen, my brother Jem got his arm badly broken at the elbow. When it healed, and Jem's fears of never being able to play football were assuaged, he was seldom self-conscious about his injury. His left arm was somewhat shorter than his right; when he stood or walked, the back of his hand was at right angles to his body, his thumb parallel to his thigh.\",\n",
    "           \"There are more things in Heaven and Earth, Horatio, than are dreamt of in your philosophy.\",\n",
    "           \"It was a bright cold day in April, and the clocks were striking thirteen. Winston Smith, his chin nuzzled into his breast in an effort to escape the vile wind, slipped quickly through the glass doors of Victory Mansions, though not quickly enough to prevent a swirl of gritty dust from entering along with him.\",\n",
    "           \"A large class of computational problems involve the determination of properties of graphs, digraphs, integers, arrays of integers, finite families of finite sets, boolean formulas and elements of other countable domains.\"   \n",
    "]"
   ]
  },
  {
   "cell_type": "code",
   "execution_count": 46,
   "metadata": {},
   "outputs": [
    {
     "name": "stdout",
     "output_type": "stream",
     "text": [
      "Text: One fish. Two fish. Red fish. Blue fish.\n",
      "Before Grade 1\n",
      "\n",
      "\n",
      "Text: Would you like them here or there? I would not like them here or there. I would not like them anywhere.\n",
      "Grade 2\n",
      "\n",
      "\n",
      "Text: Congratulations! Today is your day. You're off to Great Places! You're off and away!\n",
      "Grade 3\n",
      "\n",
      "\n",
      "Text: Harry Potter was a highly unusual boy in many ways. For one thing, he hated the summer holidays more than any other time of year. For another, he really wanted to do his homework, but was forced to do it in secret, in the dead of the night. And he also happened to be a wizard.\n",
      "Grade 5\n",
      "\n",
      "\n",
      "Text: In my younger and more vulnerable years my father gave me some advice that I've been turning over in my mind ever since.\n",
      "Grade 7\n",
      "\n",
      "\n",
      "Text: When he was nearly thirteen, my brother Jem got his arm badly broken at the elbow. When it healed, and Jem's fears of never being able to play football were assuaged, he was seldom self-conscious about his injury. His left arm was somewhat shorter than his right; when he stood or walked, the back of his hand was at right angles to his body, his thumb parallel to his thigh.\n",
      "Grade 8\n",
      "\n",
      "\n",
      "Text: There are more things in Heaven and Earth, Horatio, than are dreamt of in your philosophy.\n",
      "Grade 9\n",
      "\n",
      "\n",
      "Text: It was a bright cold day in April, and the clocks were striking thirteen. Winston Smith, his chin nuzzled into his breast in an effort to escape the vile wind, slipped quickly through the glass doors of Victory Mansions, though not quickly enough to prevent a swirl of gritty dust from entering along with him.\n",
      "Grade 10\n",
      "\n",
      "\n",
      "Text: A large class of computational problems involve the determination of properties of graphs, digraphs, integers, arrays of integers, finite families of finite sets, boolean formulas and elements of other countable domains.\n",
      "Grade 16+\n",
      "\n",
      "\n"
     ]
    }
   ],
   "source": [
    "for sent in tst_str:\n",
    "    txt = Readability(sent)\n",
    "    print(f\"Text: {sent}\")\n",
    "    print(txt.calc_read_grade())\n",
    "    print(\"\\n\")"
   ]
  },
  {
   "cell_type": "code",
   "execution_count": null,
   "metadata": {},
   "outputs": [],
   "source": []
  },
  {
   "cell_type": "code",
   "execution_count": null,
   "metadata": {},
   "outputs": [],
   "source": []
  },
  {
   "cell_type": "code",
   "execution_count": null,
   "metadata": {},
   "outputs": [],
   "source": []
  }
 ],
 "metadata": {
  "kernelspec": {
   "display_name": "Python 3",
   "language": "python",
   "name": "python3"
  },
  "language_info": {
   "codemirror_mode": {
    "name": "ipython",
    "version": 3
   },
   "file_extension": ".py",
   "mimetype": "text/x-python",
   "name": "python",
   "nbconvert_exporter": "python",
   "pygments_lexer": "ipython3",
   "version": "3.7.7"
  }
 },
 "nbformat": 4,
 "nbformat_minor": 4
}
