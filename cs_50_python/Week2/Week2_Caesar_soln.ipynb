{
 "cells": [
  {
   "cell_type": "markdown",
   "metadata": {},
   "source": [
    "### Caesar\n",
    "\n",
    "Pls refer to the following link: https://cs50.harvard.edu/x/2020/psets/2/caesar/\n",
    "\n",
    "**Note**: As we are not able to pass cmd line args via jupyter notebook, I have accepted the key and text as inputs. (you can try on any regular python ide via sys.argv"
   ]
  },
  {
   "cell_type": "markdown",
   "metadata": {},
   "source": [
    "#### Solution"
   ]
  },
  {
   "cell_type": "code",
   "execution_count": 26,
   "metadata": {},
   "outputs": [],
   "source": [
    "import string\n",
    "class Caesar:\n",
    "    def __init__(self,txt,key):\n",
    "        self.txt = txt\n",
    "        self.key = key\n",
    "        \n",
    "    def csr_encrpyt(self):\n",
    "        \"\"\"\n",
    "        Approach:\n",
    "        * 2 dcts to hold mapping of letters and indices\n",
    "            - lowercase ltrs:index (e.g. {\"a\":1,\"b\",2...})\n",
    "            - uppercase ltrs:index (e.g. {\"A\":1,\"B\",2...})\n",
    "            \n",
    "        * Find index of each ltr of test\n",
    "        * Add key to the index\n",
    "        * Reverse lookup value based on key \n",
    "        * Add new value (i.e. new letter as per reverse dct lookup)to new string\n",
    "        \n",
    "        \"\"\"\n",
    "        # 2 dcts to hold mapping ltsr and indices\n",
    "        dct_lw_idx = {}\n",
    "        dct_up_idx = {}\n",
    "        cnt = 1\n",
    "        nstr=\"\"\n",
    "        \n",
    "        for ltr in string.ascii_lowercase:\n",
    "            dct_lw_idx[ltr] = cnt\n",
    "            cnt+=1\n",
    "            \n",
    "        cnt=1\n",
    "        for ltr in string.ascii_uppercase:\n",
    "            dct_up_idx[ltr] = cnt\n",
    "            cnt+=1            \n",
    "\n",
    "        for ltr in self.txt:\n",
    "            if (ltr in dct_lw_idx):\n",
    "                stridx = dct_lw_idx[ltr] # Find index of each ltr of test\n",
    "                nwidx =  stridx + self.key # Add key to the index\n",
    "                if nwidx <=26:\n",
    "                    estr = [k for k,v in dct_lw_idx.items() if v == nwidx][0] # Reverse lookup value based on key \n",
    "                else: \n",
    "                    k1 = nwidx % 26\n",
    "                    estr = [k for k,v in dct_lw_idx.items() if v == k1][0]\n",
    "                    \n",
    "                nstr = nstr + estr    # Add new value (i.e. new letter as per reverse dct lookup)to new string\n",
    "                \n",
    "            elif (ltr in dct_up_idx):\n",
    "                stridx = dct_up_idx[ltr]             \n",
    "                nwidx =  stridx + self.key\n",
    "                if nwidx <=26:\n",
    "                    estr = [k for k,v in dct_up_idx.items() if v == nwidx][0]\n",
    "                else: \n",
    "                    k1 = nwidx % 26\n",
    "                    estr = [k for k,v in dct_up_idx.items() if v == k1][0]\n",
    "                    \n",
    "                nstr = nstr + estr                 \n",
    "                \n",
    "            else:\n",
    "                nstr = nstr + ltr # ignore anything other than letters\n",
    "                \n",
    "        retval = \"ciphertext: \" + nstr + \"\\n\"\n",
    "        return(retval)\n",
    "            \n",
    "                "
   ]
  },
  {
   "cell_type": "code",
   "execution_count": 35,
   "metadata": {},
   "outputs": [
    {
     "name": "stdout",
     "output_type": "stream",
     "text": [
      "key: 1\n",
      "plaintext: \n",
      "key: 2\n",
      "plaintext: \n",
      "key: 1\n",
      "plaintext: \n",
      "key: 1\n",
      "plaintext: HELLO\n"
     ]
    },
    {
     "data": {
      "text/plain": [
       "'ciphertext: IFMMP'"
      ]
     },
     "execution_count": 35,
     "metadata": {},
     "output_type": "execute_result"
    }
   ],
   "source": [
    "while True:\n",
    "    try:\n",
    "        key = int(input(\"key: \"))\n",
    "        txt = input(\"plaintext: \")\n",
    "        if not txt:\n",
    "            raise ValueError\n",
    "        break    \n",
    "    except ValueError:\n",
    "        continue\n",
    "        \n",
    "csrobj = Caesar(txt,key) \n",
    "csrobj.csr_encrpyt()"
   ]
  },
  {
   "cell_type": "code",
   "execution_count": null,
   "metadata": {},
   "outputs": [],
   "source": []
  },
  {
   "cell_type": "code",
   "execution_count": null,
   "metadata": {},
   "outputs": [],
   "source": []
  },
  {
   "cell_type": "code",
   "execution_count": null,
   "metadata": {},
   "outputs": [],
   "source": []
  }
 ],
 "metadata": {
  "kernelspec": {
   "display_name": "Python 3",
   "language": "python",
   "name": "python3"
  },
  "language_info": {
   "codemirror_mode": {
    "name": "ipython",
    "version": 3
   },
   "file_extension": ".py",
   "mimetype": "text/x-python",
   "name": "python",
   "nbconvert_exporter": "python",
   "pygments_lexer": "ipython3",
   "version": "3.7.7"
  }
 },
 "nbformat": 4,
 "nbformat_minor": 4
}
