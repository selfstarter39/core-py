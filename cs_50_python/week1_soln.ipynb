{
 "cells": [
  {
   "cell_type": "markdown",
   "metadata": {},
   "source": [
    "### Mario\n",
    "Please check cs50 site for the question: \n",
    "- Part 1:https://cs50.harvard.edu/x/2020/psets/1/mario/less/\n",
    "- Part 2:https://cs50.harvard.edu/x/2020/psets/1/mario/more/\n",
    "\n",
    "**Task**:\n",
    "- Print hash pyramids\n",
    "- Can be left, right aligned or center aligned (assuming center alignment as default)\n",
    "- Can be left and right padded with whitespaces or dots (assuming whitespaces as default)\n",
    "- Handle inout errors within code"
   ]
  },
  {
   "cell_type": "code",
   "execution_count": 1,
   "metadata": {},
   "outputs": [
    {
     "name": "stdout",
     "output_type": "stream",
     "text": [
      "   #\n",
      "  ##\n",
      " ###\n",
      "####\n"
     ]
    }
   ],
   "source": [
    "# Let's start this by just printing the dots without any code:-\n",
    "# Right aligned\n",
    "print((\" \" * 3)+\"#\")\n",
    "print((\" \" * 2)+\"##\")\n",
    "print((\" \" * 1)+\"###\")\n",
    "print((\" \" * 0)+\"####\")"
   ]
  },
  {
   "cell_type": "code",
   "execution_count": 2,
   "metadata": {},
   "outputs": [],
   "source": [
    "\"\"\"\n",
    "- Input:Num of rows; will be set by __init__\n",
    "- Output:Pyramid \n",
    "- Logic: (from the example above)\n",
    "    * Num of element(i.e. count of spaces + count of (#)s) in each row = Num of rows\n",
    "    * Elements start from 1 and increases by row count \n",
    "    * So we need to start with (Num of rows)-1 spaces and  # (note that count of elements in each row = Num of rows )\n",
    "    * Then, adjust to print: (Num of rows)-2 spaces and  ##  and so on\n",
    "\n",
    "\"\"\"\n",
    "\n",
    "class DspPyramid:\n",
    "    def __init__(self, num_row):\n",
    "        self.num_row = num_row\n",
    "        print(f\"Num of blocks of the pyramid is:{self.num_row}\")\n",
    "        \n",
    "        \n",
    "    def gen_pyramid(self, choice=None, pad=\" \"):\n",
    "        num_row = self.num_row\n",
    "        ele_ech_row = 4\n",
    "        cnt = 1\n",
    "        while (cnt <= self.num_row):\n",
    "            spcCnt = self.num_row - cnt\n",
    "            dsgnCnt = \"#\" * cnt\n",
    "            if choice == \"right\":\n",
    "                print((pad * spcCnt)+dsgnCnt)\n",
    "            elif  choice == \"left\":   \n",
    "                print(dsgnCnt+(pad * spcCnt))\n",
    "            else:\n",
    "                dsg1 = ((pad * spcCnt)+dsgnCnt)\n",
    "                dsg2 = (dsgnCnt+(pad * spcCnt))\n",
    "                dsg3 = dsg1 +\" \"+dsg2\n",
    "                print(dsg3)\n",
    "                \n",
    "            cnt+=1"
   ]
  },
  {
   "cell_type": "code",
   "execution_count": 3,
   "metadata": {},
   "outputs": [
    {
     "name": "stdout",
     "output_type": "stream",
     "text": [
      "Please enter a blocksize between (1-8)\n",
      "Height:0\n",
      "Height:-1\n",
      "Height:abc\n",
      "Height:None\n",
      "Height:   \n",
      "Height:8\n"
     ]
    }
   ],
   "source": [
    "# Validation of input as given in question\n",
    "print(\"Please enter a blocksize between (1-8)\")\n",
    "while True:\n",
    "    try:\n",
    "        blck = int(input(\"Height:\"))\n",
    "        if 1<=blck<=8:\n",
    "            break\n",
    "    except ValueError:  # handle error if user enters float()\n",
    "        #print(\"Please enter a blocksize between (1-8)\")\n",
    "        continue\n",
    "        \n"
   ]
  },
  {
   "cell_type": "code",
   "execution_count": 4,
   "metadata": {},
   "outputs": [
    {
     "name": "stdout",
     "output_type": "stream",
     "text": [
      "Num of blocks of the pyramid is:8\n",
      "       #\n",
      "      ##\n",
      "     ###\n",
      "    ####\n",
      "   #####\n",
      "  ######\n",
      " #######\n",
      "########\n",
      "\n",
      "\n",
      "#       \n",
      "##      \n",
      "###     \n",
      "####    \n",
      "#####   \n",
      "######  \n",
      "####### \n",
      "########\n",
      "\n",
      "\n",
      "       # #       \n",
      "      ## ##      \n",
      "     ### ###     \n",
      "    #### ####    \n",
      "   ##### #####   \n",
      "  ###### ######  \n",
      " ####### ####### \n",
      "######## ########\n"
     ]
    }
   ],
   "source": [
    "# Object creation and block generation - 1 (using all default arguments)\n",
    "pyobj = DspPyramid(blck) \n",
    "pyobj.gen_pyramid(\"right\")\n",
    "print(\"\\n\")\n",
    "pyobj.gen_pyramid(\"left\")\n",
    "print(\"\\n\")\n",
    "pyobj.gen_pyramid()"
   ]
  },
  {
   "cell_type": "code",
   "execution_count": null,
   "metadata": {},
   "outputs": [],
   "source": []
  },
  {
   "cell_type": "code",
   "execution_count": 5,
   "metadata": {},
   "outputs": [
    {
     "name": "stdout",
     "output_type": "stream",
     "text": [
      "Num of blocks of the pyramid is:8\n",
      ".......#\n",
      "......##\n",
      ".....###\n",
      "....####\n",
      "...#####\n",
      "..######\n",
      ".#######\n",
      "########\n",
      "\n",
      "\n",
      "#.......\n",
      "##......\n",
      "###.....\n",
      "####....\n",
      "#####...\n",
      "######..\n",
      "#######.\n",
      "########\n",
      "\n",
      "\n",
      ".......# #.......\n",
      "......## ##......\n",
      ".....### ###.....\n",
      "....#### ####....\n",
      "...##### #####...\n",
      "..###### ######..\n",
      ".####### #######.\n",
      "######## ########\n"
     ]
    }
   ],
   "source": [
    "# Object creation and block generation - 2 (using . for padding)\n",
    "pyobj = DspPyramid(blck) \n",
    "pyobj.gen_pyramid(\"right\",\".\")\n",
    "print(\"\\n\")\n",
    "pyobj.gen_pyramid(\"left\",\".\")\n",
    "print(\"\\n\")\n",
    "pyobj.gen_pyramid(pad=\".\")"
   ]
  },
  {
   "cell_type": "code",
   "execution_count": null,
   "metadata": {},
   "outputs": [],
   "source": []
  },
  {
   "cell_type": "markdown",
   "metadata": {},
   "source": [
    "### Cash :\n",
    "- Part 1: https://cs50.harvard.edu/x/2020/psets/1/cash/\n",
    "\n",
    "Assume that the only coins available are quarters `(25¢), dimes (10¢), nickels (5¢), and pennies (1¢)`."
   ]
  },
  {
   "cell_type": "code",
   "execution_count": null,
   "metadata": {},
   "outputs": [],
   "source": []
  },
  {
   "cell_type": "code",
   "execution_count": null,
   "metadata": {},
   "outputs": [],
   "source": []
  },
  {
   "cell_type": "code",
   "execution_count": null,
   "metadata": {},
   "outputs": [],
   "source": []
  },
  {
   "cell_type": "code",
   "execution_count": null,
   "metadata": {},
   "outputs": [],
   "source": []
  },
  {
   "cell_type": "code",
   "execution_count": null,
   "metadata": {},
   "outputs": [],
   "source": []
  },
  {
   "cell_type": "code",
   "execution_count": null,
   "metadata": {},
   "outputs": [],
   "source": []
  }
 ],
 "metadata": {
  "kernelspec": {
   "display_name": "Python 3",
   "language": "python",
   "name": "python3"
  },
  "language_info": {
   "codemirror_mode": {
    "name": "ipython",
    "version": 3
   },
   "file_extension": ".py",
   "mimetype": "text/x-python",
   "name": "python",
   "nbconvert_exporter": "python",
   "pygments_lexer": "ipython3",
   "version": "3.7.7"
  }
 },
 "nbformat": 4,
 "nbformat_minor": 4
}
