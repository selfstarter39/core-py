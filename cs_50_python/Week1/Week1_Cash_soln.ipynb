{
 "cells": [
  {
   "cell_type": "markdown",
   "metadata": {},
   "source": [
    "### Cash\n",
    "\n",
    "Please check:https://cs50.harvard.edu/x/2020/psets/1/cash/\n",
    "\n",
    "\n",
    "**Points to note**:\n",
    "- Problem Statement: Implement a program that first asks the user how much change is owed and then prints the minimum number of coins with which that change can be made\n",
    "- Assume that the only coins available are quarters `(25¢), dimes (10¢), nickels (5¢), and pennies (1¢)`\n",
    "- Input: float (format: 0.41/9.75/9.00 etc.)\n",
    "- Output: `4\\n` etc.\n",
    "- Necessary error handling is expected"
   ]
  },
  {
   "cell_type": "code",
   "execution_count": null,
   "metadata": {},
   "outputs": [],
   "source": []
  },
  {
   "cell_type": "code",
   "execution_count": 23,
   "metadata": {},
   "outputs": [],
   "source": [
    "class Cash:\n",
    "    def __init__(self,amt):\n",
    "        self.amt = int(round(amt*100))\n",
    "                \n",
    "    def chng_owed(self):\n",
    "        clst = [25,10,5,1] # storing all changes \n",
    "        idx = 0\n",
    "        num = self.amt\n",
    "        cnt = 0\n",
    "        while (num != 0):\n",
    "            q = num // clst[idx] # index of clst will change during each iteration\n",
    "            r = num % clst[idx]\n",
    "            cnt+=q\n",
    "            num = r \n",
    "            idx+=1\n",
    "        \n",
    "        return(str(cnt)+\"\\n\") "
   ]
  },
  {
   "cell_type": "code",
   "execution_count": 31,
   "metadata": {},
   "outputs": [
    {
     "name": "stdout",
     "output_type": "stream",
     "text": [
      "Change owed: -1\n",
      "Change owed: f00\n",
      "Change owed: \n",
      "Change owed: -1.00\n",
      "Change owed: 0.41\n",
      "4\n",
      "\n"
     ]
    }
   ],
   "source": [
    "# Validation of input as given in question\n",
    "if __name__==\"__main__\":\n",
    "    while True:\n",
    "        try:\n",
    "            amt = float(input(\"Change owed: \"))\n",
    "            if amt < 0:\n",
    "                raise ValueError\n",
    "            break\n",
    "        except ValueError:  # handle error if user enters float()\n",
    "            continue       \n",
    "    \n",
    "    cashObj = Cash(amt)\n",
    "    print(cashObj.chng_owed())"
   ]
  },
  {
   "cell_type": "code",
   "execution_count": null,
   "metadata": {},
   "outputs": [],
   "source": []
  }
 ],
 "metadata": {
  "kernelspec": {
   "display_name": "Python 3",
   "language": "python",
   "name": "python3"
  },
  "language_info": {
   "codemirror_mode": {
    "name": "ipython",
    "version": 3
   },
   "file_extension": ".py",
   "mimetype": "text/x-python",
   "name": "python",
   "nbconvert_exporter": "python",
   "pygments_lexer": "ipython3",
   "version": "3.7.7"
  }
 },
 "nbformat": 4,
 "nbformat_minor": 4
}
