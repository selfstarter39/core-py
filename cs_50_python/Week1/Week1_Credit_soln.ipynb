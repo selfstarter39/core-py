{
 "cells": [
  {
   "cell_type": "markdown",
   "metadata": {},
   "source": [
    "### Cash\n",
    "\n",
    "Please check:https://cs50.harvard.edu/x/2020/psets/1/credit/\n",
    "\n",
    "\n",
    "**Points to note**:\n",
    "- Write a program that prompts the user for a credit card number and then reports whether it is a valid American Express, MasterCard, or Visa card number, per the definitions of each’s format herein. \n",
    "- So that we can automate some tests of your code, we ask that your program’s last line of output be AMEX\\n or MASTERCARD\\n or VISA\\n or INVALID\\n, nothing more, nothing less. \n",
    "- For simplicity, you may assume that the user’s input will be entirely numeric (i.e., devoid of hyphens, as might be printed on an actual card).\n",
    "- Necessary error handling is expected\n",
    "- American Express uses 15-digit numbers, MasterCard uses 16-digit numbers, and Visa uses 13- and 16-digit numbers. And those are decimal numbers (0 through 9), not binary.\n",
    "- All American Express numbers start with 34 or 37; most MasterCard numbers start with 51, 52, 53, 54, or 55 (they also have some other potential starting numbers which we won’t concern ourselves with for this problem); and all Visa numbers start with 4. "
   ]
  },
  {
   "cell_type": "code",
   "execution_count": null,
   "metadata": {},
   "outputs": [],
   "source": []
  },
  {
   "cell_type": "code",
   "execution_count": 91,
   "metadata": {},
   "outputs": [],
   "source": [
    "class Credit:\n",
    "    def __init__(self,cm):\n",
    "        \"\"\"\n",
    "        - Init method for creating instance\n",
    "        - Input: card Number\n",
    "        - Other vars:\n",
    "            - self.cmp: to hold the 1st didgit for Visa or 1st 2 digits for Amex/Mastercard\n",
    "            - self.dct: to hold the card details (starting digits and lengths) as per the qstn\n",
    "        - Output: None\n",
    "        \"\"\"\n",
    "        self.cm = cm\n",
    "        self.dct = {\"Amex\":[[\"34\",\"37\"],[15]],\n",
    "                    \"MasterCard\":[[\"51\", \"52\", \"53\", \"54\",\"55\"],[16]],\n",
    "                    \"Visa\":[[\"4\"],[13,16]]                 \n",
    "                   }\n",
    "        self.cmp = \"\"\n",
    "        \n",
    "        \n",
    "    def chk_valid(self):\n",
    "        \"\"\"\n",
    "        - Input:None\n",
    "        - Output: Name of company to which a card belongs followed by a newline(Amex\\n) or (INVALID)\n",
    "        \"\"\"\n",
    "        pdt = 0 # to hold result of product of digits and 2 (as per algorithm)\n",
    "        s1=0 # hold sum of all digits starting 2nd last (step -2)\n",
    "        s2=0 # hold sum of all digits starting last (step -2)\n",
    "        \n",
    "        # check for valid length and validity of 1st 2 digits or 1st digit\n",
    "        try:\n",
    "\n",
    "            cmpstr = str(self.cm)[0:2] # nonVisa cards\n",
    "            cmpstr1 = str(self.cm)[0:1] # Visa cards\n",
    "            self.cmp = [k for k,v in self.dct.items() if str(self.cm)[0:2] in v[0]  or str(self.cm)[0:1] in v[0]][0]\n",
    "            if not len(str(self.cm)) in self.dct[self.cmp][1]:\n",
    "                    raise ValueError\n",
    "                \n",
    "            \n",
    "            # check for luhn's algorithmic logic\n",
    "            for num in range(len(str(self.cm))-2,-1,-2): # a single loop to tackle both ranges of digits\n",
    "                val = str(self.cm)[num] # start from the number’s second-to-last digit\n",
    "                pdt = int(val) * 2\n",
    "                if pdt > 9: # for 2 digited num, split the digits\n",
    "                    v1 = int(str(pdt)[0])\n",
    "                    v2 = int(str(pdt)[1])\n",
    "                    s1+=v1\n",
    "                    s1+=v2\n",
    "                else:\n",
    "                    s1+=pdt\n",
    "                    \n",
    "                val1 = int(str(self.cm)[num+1]) # other digits; starting from last one\n",
    "                s2+=val1\n",
    "                \n",
    "            if len(str(self.cm)) % 2 != 0:  # handling the 1st digit of the card for cards of odd lengths (371449635398431)\n",
    "                   s2 = s2 + int(str(self.cm)[0])\n",
    "            \n",
    "            if (s1+s2)%10 == 0:\n",
    "            #if (str(s1+s2))[-1] == \"0\":\n",
    "                return (self.cmp + \"\\n\")\n",
    "            else:\n",
    "                return(\"INVALID\"+\"\\n\")\n",
    "            \n",
    "        except IndexError :\n",
    "            return(\"INVALID\"+\"\\n\")\n",
    "        \n",
    "        except ValueError:\n",
    "            return(\"INVALID\"+\"\\n\")"
   ]
  },
  {
   "cell_type": "code",
   "execution_count": 94,
   "metadata": {},
   "outputs": [
    {
     "name": "stdout",
     "output_type": "stream",
     "text": [
      "Number: 6011000990139424\n",
      "INVALID\n",
      "\n"
     ]
    }
   ],
   "source": [
    "# Validation of input as given in question\n",
    "if __name__==\"__main__\":\n",
    "    while True:\n",
    "        try:\n",
    "            cm = int(input(\"Number: \"))\n",
    "            if cm < 0:\n",
    "                raise ValueError\n",
    "            break\n",
    "        except ValueError:  # handle error if user enters float()\n",
    "            continue       \n",
    "cmObj = Credit(cm)\n",
    "print(cmObj.chk_valid())"
   ]
  },
  {
   "cell_type": "code",
   "execution_count": null,
   "metadata": {},
   "outputs": [],
   "source": []
  }
 ],
 "metadata": {
  "kernelspec": {
   "display_name": "Python 3",
   "language": "python",
   "name": "python3"
  },
  "language_info": {
   "codemirror_mode": {
    "name": "ipython",
    "version": 3
   },
   "file_extension": ".py",
   "mimetype": "text/x-python",
   "name": "python",
   "nbconvert_exporter": "python",
   "pygments_lexer": "ipython3",
   "version": "3.7.7"
  }
 },
 "nbformat": 4,
 "nbformat_minor": 4
}
