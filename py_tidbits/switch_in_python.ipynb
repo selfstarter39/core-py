{
 "cells": [
  {
   "cell_type": "markdown",
   "metadata": {},
   "source": [
    "#### Points to Note:\n",
    "- Python doesn't have a default <b>switch()</b> implementation\n",
    "- <u>if-elif-else </u> can be used to relace the logic within code where switch() might be needed; **but**:-\n",
    "    * if-elif-else is `sequential` \n",
    "    * Therefore, each branch will be executed one after the other till the condition is met\n",
    "    * if the condition is satisfied by `else` block, all of if-elif check needs to happen in code \n",
    "    * This might be time consuming for very large branches\n",
    "    \n",
    "- A quick workaround is to use dictionaries(<u>key:value</u>) and functions (<u>functions are 1st class citizens!</u>) for basic equality checks.\n",
    "\n",
    "\n",
    "#### Let's try out an example\n",
    "\n",
    ">Say we need to return the day of week depeneding on input.\n",
    "- 1 should return Sunday\n",
    "- 2 should return Monday and so on..\n",
    "\n",
    "#### Option 1: Solving via if-elif-else"
   ]
  },
  {
   "cell_type": "code",
   "execution_count": 18,
   "metadata": {},
   "outputs": [
    {
     "name": "stdout",
     "output_type": "stream",
     "text": [
      "It's a Monday\n",
      "It's a Wednesday\n",
      "Invalid day passed\n"
     ]
    }
   ],
   "source": [
    "def return_day(day):\n",
    "    if day == 1:\n",
    "        return (\"It's a Sunday\")\n",
    "    elif day == 2:\n",
    "        return (\"It's a Monday\")   \n",
    "    elif day == 3:\n",
    "        return (\"It's a Tuesday\")     \n",
    "    elif day == 4:\n",
    "        return (\"It's a Wednesday\")  \n",
    "    elif day == 5:\n",
    "        return (\"It's a Thursday\")  \n",
    "    elif day == 6:\n",
    "        return (\"It's a Friday\")          \n",
    "    elif day == 7:\n",
    "        return (\"It's a Saturday\")  \n",
    "    else:\n",
    "        return \"Invalid day passed\"\n",
    "        \n",
    "        \n",
    "print(return_day(2))  \n",
    "print(return_day(4))  \n",
    "print(return_day(15))  \n",
    "    "
   ]
  },
  {
   "cell_type": "markdown",
   "metadata": {},
   "source": [
    "**Notes on the above code**:\n",
    "- The condition check is sequential\n",
    "- So for day = 15, \n",
    "    * the check starts from day == 1\n",
    "    * each condition is evaluated to False\n",
    "    * finally the **else catchall** block kicks in\n",
    "- For very large equality check branches this might consume time.\n",
    "\n",
    "_A quick alternative for the above code can be to use a combination of_ <b>dictionary + functions</b>\n",
    "\n",
    "#### Flow:\n",
    ">- Convert all your if-else logics to functions\n",
    "- Make sure to create one function to handle the **default/invalid case**\n",
    "- Create a dictionary to map `expected inputs to relevant functions`\n",
    "- <u>Call the functions as follows</u>:\n",
    "    * Use dictionary.get() to validate key presence; pass key to .get() so as to map to function \n",
    "    * Pass default function within .get() to emulate **catchall** block\n",
    "    * Call the relevant function\n",
    "    \n",
    "<i>Let's see how this can be done</i>   \n",
    "\n",
    "#### Option 2: Mimicing switch ()"
   ]
  },
  {
   "cell_type": "code",
   "execution_count": 17,
   "metadata": {},
   "outputs": [
    {
     "name": "stdout",
     "output_type": "stream",
     "text": [
      "It's a Monday\n",
      "It's a Wednesday\n",
      "Invalid Season!\n"
     ]
    }
   ],
   "source": [
    "# Splitting logics into functions\n",
    "def sunday():\n",
    "    return \"It's a Sunday\"\n",
    "\n",
    "def monday():\n",
    "    return \"It's a Monday\"\n",
    "\n",
    "def tuesday():\n",
    "    return \"It's a Tuesday\"\n",
    "\n",
    "def wednesday():\n",
    "    return \"It's a Wednesday\"\n",
    "\n",
    "def thursday():\n",
    "    return \"It's a Wednesday\"\n",
    "\n",
    "def friday():\n",
    "    return \"It's a Friday\"\n",
    "\n",
    "def saturday():\n",
    "    return \"It's a Saturday\"\n",
    "\n",
    "def defualt(): # handling default/invalid catchcall \n",
    "    return \"Invalid day passed\"\n",
    "\n",
    "\n",
    "    \n",
    "#  dictionary to map `expected inputs to relevant functions`\n",
    "switch_dct = {\n",
    "                  1: sunday,\n",
    "                  2: monday,\n",
    "                  3: tuesday,\n",
    "                  4: wednesday,\n",
    "                  5: thursday,\n",
    "                  6: friday,\n",
    "                  7: saturday  \n",
    "                }\n",
    "\n",
    "\n",
    "# Switch function\n",
    "def mimic_switch(x):\n",
    "\n",
    "    # condition is passed as key followed by function call on the key\n",
    "    # Note the set of parenthesis at the last; that's where the function is invoked\n",
    "    # removing the () at the last will just return the memory location of function\n",
    "    return switch_dct.get(x, default)() \n",
    "\n",
    "print (mimic_switch(2))\n",
    "print (mimic_switch(4))\n",
    "print (mimic_switch(15))"
   ]
  },
  {
   "cell_type": "markdown",
   "metadata": {},
   "source": [
    "#### Final thoughts:\n",
    "- Though the above switch implementation looks cool, use conventional if-elif-else unless you really have large number of brances\n",
    "- As of now the switch (mentioned above) works well where the dictionary key is <u>a check for equality</u>(**==**):\n",
    "    * i.e., if  i == 1 **can be replaced as** 1:sunday\n",
    "    * But the following doesn't work : \n",
    "    >if i > 10 **can't be written as** dct = {i>10: print(\"Something\")}\n",
    "\n",
    "- Therefore, even if the above switch implementation is good to know, it doesn't replace if-elif-else completely"
   ]
  }
 ],
 "metadata": {
  "kernelspec": {
   "display_name": "Python 3",
   "language": "python",
   "name": "python3"
  },
  "language_info": {
   "codemirror_mode": {
    "name": "ipython",
    "version": 3
   },
   "file_extension": ".py",
   "mimetype": "text/x-python",
   "name": "python",
   "nbconvert_exporter": "python",
   "pygments_lexer": "ipython3",
   "version": "3.7.7"
  }
 },
 "nbformat": 4,
 "nbformat_minor": 4
}
